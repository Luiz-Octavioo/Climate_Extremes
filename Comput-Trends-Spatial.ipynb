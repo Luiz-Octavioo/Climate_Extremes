{
 "cells": [
  {
   "cell_type": "code",
   "execution_count": 1,
   "id": "63a9c090-684f-4428-912a-2b38bee3805b",
   "metadata": {},
   "outputs": [
    {
     "data": {
      "text/plain": [
       "<xarray.core.options.set_options at 0x7f81cd9cef50>"
      ]
     },
     "execution_count": 1,
     "metadata": {},
     "output_type": "execute_result"
    }
   ],
   "source": [
    "import os\n",
    "from utils import *\n",
    "import xarray as xr\n",
    "import salem\n",
    "from esmtools.grid import convert_lon \n",
    "from trend_mann_kendall import *\n",
    "import glob\n",
    "\n",
    "# Filter Warnings\n",
    "import warnings\n",
    "warnings.filterwarnings('ignore')\n",
    "\n",
    "# options\n",
    "xr.set_options(keep_attrs=True)"
   ]
  },
  {
   "cell_type": "code",
   "execution_count": 2,
   "id": "8fbafc1d-c824-4e6b-9b2f-bd7cfbb41298",
   "metadata": {},
   "outputs": [],
   "source": [
    "# Mudar o diretorio\n",
    "os.chdir('/home/luiz/climate_change/ETCCDI_Extremes/Anual/')"
   ]
  },
  {
   "cell_type": "code",
   "execution_count": 3,
   "id": "90946c4f-ebb6-4ea9-82c8-7ab9e0d0a8e8",
   "metadata": {},
   "outputs": [],
   "source": [
    "# Definir caminho do shapefile\n",
    "shp = '/home/luiz/Documentos/Shapefiles/South_America/South_America.shp'\n",
    "# Criar uma lista com os indices extremos\n",
    "ETCCDI_index = glob.glob('*nc')\n",
    "ETCCDI_index.sort()"
   ]
  },
  {
   "cell_type": "code",
   "execution_count": 4,
   "id": "4c6eeb5d-1ad3-4bdd-bb06-e62231768683",
   "metadata": {},
   "outputs": [
    {
     "name": "stdout",
     "output_type": "stream",
     "text": [
      "O diretório /home/luiz/Jupyter_Notebook/Python_Notebook/Climate_Extremes_DOC/Trends_NC já existe !\n"
     ]
    }
   ],
   "source": [
    "path_trends_nc = '/home/luiz/Jupyter_Notebook/Python_Notebook/Climate_Extremes_DOC/Trends_NC'\n",
    "if os.path.exists(path_trends_nc):\n",
    "    print(f'O diretório {path_trends_nc} já existe !')\n",
    "else:\n",
    "    print(f'Criando diretório {path_trends_nc}')\n",
    "    os.mkdir(path_trends_nc)"
   ]
  },
  {
   "cell_type": "code",
   "execution_count": 5,
   "id": "ef46a3a6-60f7-4978-a745-955c6e61bd65",
   "metadata": {},
   "outputs": [
    {
     "name": "stdout",
     "output_type": "stream",
     "text": [
      "CDD - Calculate Slope by Theil-Sen Test and signficance of Trend by Mann Kendall Test\n"
     ]
    },
    {
     "name": "stderr",
     "output_type": "stream",
     "text": [
      "100%|██████████| 140/140 [00:31<00:00,  4.48it/s]\n",
      "100%|██████████| 140/140 [00:31<00:00,  4.50it/s]\n"
     ]
    },
    {
     "name": "stdout",
     "output_type": "stream",
     "text": [
      "Saving File cdd_Trend_SA.nc\n",
      "Done!\n",
      "CSDI - Calculate Slope by Theil-Sen Test and signficance of Trend by Mann Kendall Test\n"
     ]
    },
    {
     "name": "stderr",
     "output_type": "stream",
     "text": [
      "100%|██████████| 140/140 [00:30<00:00,  4.66it/s]\n",
      "100%|██████████| 140/140 [00:29<00:00,  4.68it/s]\n"
     ]
    },
    {
     "name": "stdout",
     "output_type": "stream",
     "text": [
      "Saving File csdi_Trend_SA.nc\n",
      "Done!\n",
      "CWD - Calculate Slope by Theil-Sen Test and signficance of Trend by Mann Kendall Test\n"
     ]
    },
    {
     "name": "stderr",
     "output_type": "stream",
     "text": [
      "100%|██████████| 140/140 [00:30<00:00,  4.56it/s]\n",
      "100%|██████████| 140/140 [00:30<00:00,  4.56it/s]\n"
     ]
    },
    {
     "name": "stdout",
     "output_type": "stream",
     "text": [
      "Saving File cwd_Trend_SA.nc\n",
      "Done!\n",
      "DTR - Calculate Slope by Theil-Sen Test and signficance of Trend by Mann Kendall Test\n"
     ]
    },
    {
     "name": "stderr",
     "output_type": "stream",
     "text": [
      "100%|██████████| 140/140 [00:29<00:00,  4.74it/s]\n",
      "100%|██████████| 140/140 [00:29<00:00,  4.72it/s]\n"
     ]
    },
    {
     "name": "stdout",
     "output_type": "stream",
     "text": [
      "Saving File dtr_Trend_SA.nc\n",
      "Done!\n",
      "FD - Calculate Slope by Theil-Sen Test and signficance of Trend by Mann Kendall Test\n"
     ]
    },
    {
     "name": "stderr",
     "output_type": "stream",
     "text": [
      "100%|██████████| 140/140 [00:29<00:00,  4.69it/s]\n",
      "100%|██████████| 140/140 [00:30<00:00,  4.66it/s]\n"
     ]
    },
    {
     "name": "stdout",
     "output_type": "stream",
     "text": [
      "Saving File fd_Trend_SA.nc\n",
      "Done!\n",
      "PRCPTOT - Calculate Slope by Theil-Sen Test and signficance of Trend by Mann Kendall Test\n"
     ]
    },
    {
     "name": "stderr",
     "output_type": "stream",
     "text": [
      "100%|██████████| 140/140 [00:29<00:00,  4.73it/s]\n",
      "100%|██████████| 140/140 [00:29<00:00,  4.72it/s]\n"
     ]
    },
    {
     "name": "stdout",
     "output_type": "stream",
     "text": [
      "Saving File prcptot_Trend_SA.nc\n",
      "Done!\n",
      "R10MM - Calculate Slope by Theil-Sen Test and signficance of Trend by Mann Kendall Test\n"
     ]
    },
    {
     "name": "stderr",
     "output_type": "stream",
     "text": [
      "100%|██████████| 140/140 [00:31<00:00,  4.51it/s]\n",
      "100%|██████████| 140/140 [00:31<00:00,  4.49it/s]\n"
     ]
    },
    {
     "name": "stdout",
     "output_type": "stream",
     "text": [
      "Saving File r10mm_Trend_SA.nc\n",
      "Done!\n",
      "R20MM - Calculate Slope by Theil-Sen Test and signficance of Trend by Mann Kendall Test\n"
     ]
    },
    {
     "name": "stderr",
     "output_type": "stream",
     "text": [
      "100%|██████████| 140/140 [00:30<00:00,  4.55it/s]\n",
      "100%|██████████| 140/140 [00:30<00:00,  4.56it/s]\n"
     ]
    },
    {
     "name": "stdout",
     "output_type": "stream",
     "text": [
      "Saving File r20mm_Trend_SA.nc\n",
      "Done!\n",
      "R30MM - Calculate Slope by Theil-Sen Test and signficance of Trend by Mann Kendall Test\n"
     ]
    },
    {
     "name": "stderr",
     "output_type": "stream",
     "text": [
      "100%|██████████| 140/140 [00:30<00:00,  4.58it/s]\n",
      "100%|██████████| 140/140 [00:30<00:00,  4.60it/s]\n"
     ]
    },
    {
     "name": "stdout",
     "output_type": "stream",
     "text": [
      "Saving File r30mm_Trend_SA.nc\n",
      "Done!\n",
      "R95P - Calculate Slope by Theil-Sen Test and signficance of Trend by Mann Kendall Test\n"
     ]
    },
    {
     "name": "stderr",
     "output_type": "stream",
     "text": [
      "100%|██████████| 140/140 [00:30<00:00,  4.65it/s]\n",
      "100%|██████████| 140/140 [00:30<00:00,  4.65it/s]\n"
     ]
    },
    {
     "name": "stdout",
     "output_type": "stream",
     "text": [
      "Saving File r95p_Trend_SA.nc\n",
      "Done!\n",
      "R99P - Calculate Slope by Theil-Sen Test and signficance of Trend by Mann Kendall Test\n"
     ]
    },
    {
     "name": "stderr",
     "output_type": "stream",
     "text": [
      "100%|██████████| 140/140 [00:31<00:00,  4.51it/s]\n",
      "100%|██████████| 140/140 [00:31<00:00,  4.51it/s]\n"
     ]
    },
    {
     "name": "stdout",
     "output_type": "stream",
     "text": [
      "Saving File r99p_Trend_SA.nc\n",
      "Done!\n",
      "RX1DAY - Calculate Slope by Theil-Sen Test and signficance of Trend by Mann Kendall Test\n"
     ]
    },
    {
     "name": "stderr",
     "output_type": "stream",
     "text": [
      "100%|██████████| 140/140 [00:29<00:00,  4.73it/s]\n",
      "100%|██████████| 140/140 [00:29<00:00,  4.71it/s]\n"
     ]
    },
    {
     "name": "stdout",
     "output_type": "stream",
     "text": [
      "Saving File rx1day_Trend_SA.nc\n",
      "Done!\n",
      "RX5DAY - Calculate Slope by Theil-Sen Test and signficance of Trend by Mann Kendall Test\n"
     ]
    },
    {
     "name": "stderr",
     "output_type": "stream",
     "text": [
      "100%|██████████| 140/140 [00:29<00:00,  4.73it/s]\n",
      "100%|██████████| 140/140 [00:29<00:00,  4.69it/s]\n"
     ]
    },
    {
     "name": "stdout",
     "output_type": "stream",
     "text": [
      "Saving File rx5day_Trend_SA.nc\n",
      "Done!\n",
      "SDII - Calculate Slope by Theil-Sen Test and signficance of Trend by Mann Kendall Test\n"
     ]
    },
    {
     "name": "stderr",
     "output_type": "stream",
     "text": [
      "100%|██████████| 140/140 [00:29<00:00,  4.73it/s]\n",
      "100%|██████████| 140/140 [00:29<00:00,  4.73it/s]\n"
     ]
    },
    {
     "name": "stdout",
     "output_type": "stream",
     "text": [
      "Saving File sdii_Trend_SA.nc\n",
      "Done!\n",
      "TN10P - Calculate Slope by Theil-Sen Test and signficance of Trend by Mann Kendall Test\n"
     ]
    },
    {
     "name": "stderr",
     "output_type": "stream",
     "text": [
      "100%|██████████| 140/140 [00:30<00:00,  4.61it/s]\n",
      "100%|██████████| 140/140 [00:30<00:00,  4.55it/s]\n"
     ]
    },
    {
     "name": "stdout",
     "output_type": "stream",
     "text": [
      "Saving File tn10p_Trend_SA.nc\n",
      "Done!\n",
      "TN90P - Calculate Slope by Theil-Sen Test and signficance of Trend by Mann Kendall Test\n"
     ]
    },
    {
     "name": "stderr",
     "output_type": "stream",
     "text": [
      "100%|██████████| 140/140 [00:30<00:00,  4.54it/s]\n",
      "100%|██████████| 140/140 [00:30<00:00,  4.60it/s]\n"
     ]
    },
    {
     "name": "stdout",
     "output_type": "stream",
     "text": [
      "Saving File tn90p_Trend_SA.nc\n",
      "Done!\n",
      "TNN - Calculate Slope by Theil-Sen Test and signficance of Trend by Mann Kendall Test\n"
     ]
    },
    {
     "name": "stderr",
     "output_type": "stream",
     "text": [
      "100%|██████████| 140/140 [00:29<00:00,  4.70it/s]\n",
      "100%|██████████| 140/140 [00:29<00:00,  4.68it/s]\n"
     ]
    },
    {
     "name": "stdout",
     "output_type": "stream",
     "text": [
      "Saving File tnn_Trend_SA.nc\n",
      "Done!\n",
      "TNX - Calculate Slope by Theil-Sen Test and signficance of Trend by Mann Kendall Test\n"
     ]
    },
    {
     "name": "stderr",
     "output_type": "stream",
     "text": [
      "100%|██████████| 140/140 [00:29<00:00,  4.70it/s]\n",
      "100%|██████████| 140/140 [00:29<00:00,  4.70it/s]\n"
     ]
    },
    {
     "name": "stdout",
     "output_type": "stream",
     "text": [
      "Saving File tnx_Trend_SA.nc\n",
      "Done!\n",
      "TX10P - Calculate Slope by Theil-Sen Test and signficance of Trend by Mann Kendall Test\n"
     ]
    },
    {
     "name": "stderr",
     "output_type": "stream",
     "text": [
      "100%|██████████| 140/140 [00:30<00:00,  4.62it/s]\n",
      "100%|██████████| 140/140 [00:30<00:00,  4.60it/s]\n"
     ]
    },
    {
     "name": "stdout",
     "output_type": "stream",
     "text": [
      "Saving File tx10p_Trend_SA.nc\n",
      "Done!\n",
      "TX90P - Calculate Slope by Theil-Sen Test and signficance of Trend by Mann Kendall Test\n"
     ]
    },
    {
     "name": "stderr",
     "output_type": "stream",
     "text": [
      "100%|██████████| 140/140 [00:30<00:00,  4.55it/s]\n",
      "100%|██████████| 140/140 [00:30<00:00,  4.57it/s]\n"
     ]
    },
    {
     "name": "stdout",
     "output_type": "stream",
     "text": [
      "Saving File tx90p_Trend_SA.nc\n",
      "Done!\n",
      "TXN - Calculate Slope by Theil-Sen Test and signficance of Trend by Mann Kendall Test\n"
     ]
    },
    {
     "name": "stderr",
     "output_type": "stream",
     "text": [
      "100%|██████████| 140/140 [00:29<00:00,  4.69it/s]\n",
      "100%|██████████| 140/140 [00:29<00:00,  4.69it/s]\n"
     ]
    },
    {
     "name": "stdout",
     "output_type": "stream",
     "text": [
      "Saving File txn_Trend_SA.nc\n",
      "Done!\n",
      "TXX - Calculate Slope by Theil-Sen Test and signficance of Trend by Mann Kendall Test\n"
     ]
    },
    {
     "name": "stderr",
     "output_type": "stream",
     "text": [
      "100%|██████████| 140/140 [00:29<00:00,  4.71it/s]\n",
      "100%|██████████| 140/140 [00:29<00:00,  4.70it/s]\n"
     ]
    },
    {
     "name": "stdout",
     "output_type": "stream",
     "text": [
      "Saving File txx_Trend_SA.nc\n",
      "Done!\n",
      "WSDI - Calculate Slope by Theil-Sen Test and signficance of Trend by Mann Kendall Test\n"
     ]
    },
    {
     "name": "stderr",
     "output_type": "stream",
     "text": [
      "100%|██████████| 140/140 [00:30<00:00,  4.62it/s]\n",
      "100%|██████████| 140/140 [00:30<00:00,  4.61it/s]\n"
     ]
    },
    {
     "name": "stdout",
     "output_type": "stream",
     "text": [
      "Saving File wsdi_Trend_SA.nc\n",
      "Done!\n",
      "CPU times: user 26min 23s, sys: 11.7 s, total: 26min 34s\n",
      "Wall time: 26min 26s\n"
     ]
    }
   ],
   "source": [
    "%%time\n",
    "start_date = '1979-01-01'\n",
    "end_date = '2020-01-01'\n",
    "freq = '1YS'\n",
    "# trends_nc = []\n",
    "\n",
    "for index in ETCCDI_index:\n",
    "    ds = xr.open_dataset(index, decode_timedelta=False)\n",
    "    ds = fix_encoding_time(ds, start=start_date, end=end_date, freq=freq)\n",
    "    ds = convert_lon(ds, coord=get_lon_name(ds))\n",
    "    # Recortar\n",
    "    ds = mask_dataset(ds, shapefile_path=shp)\n",
    "    \n",
    "    # Remover variavel 'time_bnds'\n",
    "    if 'time_bnds' in ds:\n",
    "        ds = ds.drop_vars('time_bnds')\n",
    "    else:\n",
    "        pass\n",
    "    \n",
    "    # Pegar o nome do Indice Extremo\n",
    "    index_name = index.split('_')[0]\n",
    "    \n",
    "    # Log\n",
    "    print(f'{index_name.upper()} - Calculate Slope by Theil-Sen Test and signficance of Trend by Mann Kendall Test')\n",
    "    \n",
    "    # Calcular as tendencias\n",
    "    trend = calc_slope(ds[getvar(ds)])\n",
    "    sig = calc_sig(ds[getvar(ds)])\n",
    "    \n",
    "    # Combinar parametros\n",
    "    da = merge_params(trend, sig)\n",
    "    \n",
    "    # Exportar arquivos\n",
    "    print(f'Saving File {index_name}_Trend_SA.nc')\n",
    "    da.to_netcdf(f'{path_trends_nc}/' + f'{index_name}_Trend_SA.nc')\n",
    "    \n",
    "    print('Done!')"
   ]
  }
 ],
 "metadata": {
  "kernelspec": {
   "display_name": "maps",
   "language": "python",
   "name": "maps"
  },
  "language_info": {
   "codemirror_mode": {
    "name": "ipython",
    "version": 3
   },
   "file_extension": ".py",
   "mimetype": "text/x-python",
   "name": "python",
   "nbconvert_exporter": "python",
   "pygments_lexer": "ipython3",
   "version": "3.7.8"
  }
 },
 "nbformat": 4,
 "nbformat_minor": 5
}
