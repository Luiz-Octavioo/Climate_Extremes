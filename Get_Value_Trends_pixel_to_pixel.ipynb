{
 "cells": [
  {
   "cell_type": "code",
   "execution_count": 1,
   "outputs": [
    {
     "data": {
      "text/plain": "<xarray.core.options.set_options at 0x1bcf04f11c8>"
     },
     "execution_count": 1,
     "metadata": {},
     "output_type": "execute_result"
    }
   ],
   "source": [
    "import os\n",
    "import glob\n",
    "import xarray as xr\n",
    "import numpy as np\n",
    "import pandas as pd\n",
    "import salem\n",
    "from esmtools.grid import convert_lon\n",
    "from utils import *\n",
    "\n",
    "# options\n",
    "xr.set_options(keep_attrs=True)"
   ],
   "metadata": {
    "collapsed": false,
    "pycharm": {
     "name": "#%%\n"
    }
   }
  },
  {
   "cell_type": "code",
   "execution_count": 2,
   "outputs": [],
   "source": [
    "# Set the directory where the data is stored\n",
    "dir_extremes = 'Trends_NC/Precip_trend/'\n",
    "os.chdir(dir_extremes)"
   ],
   "metadata": {
    "collapsed": false,
    "pycharm": {
     "name": "#%%\n"
    }
   }
  },
  {
   "cell_type": "code",
   "execution_count": 3,
   "outputs": [
    {
     "name": "stdout",
     "output_type": "stream",
     "text": [
      " O volume na unidade C nÆo tem nome.\n",
      " O N£mero de S‚rie do Volume ‚ FC9F-C5F6\n",
      "\n",
      " Pasta de C:\\Users\\Luiz\\OneDrive\\Climate_Extremes_DOC\\Trends_NC\\Precip_trend\n",
      "\n",
      "06/05/2022  23:24    <DIR>          .\n",
      "06/05/2022  23:24    <DIR>          ..\n",
      "04/05/2022  12:42           229,145 cdd_Trend_SA.nc\n",
      "04/05/2022  12:42           229,145 cwd_Trend_SA.nc\n",
      "04/05/2022  12:42           229,145 prcptot_Trend_SA.nc\n",
      "04/05/2022  12:43           229,145 r10mm_Trend_SA.nc\n",
      "04/05/2022  12:42           229,145 r20mm_Trend_SA.nc\n",
      "04/05/2022  12:42           229,145 r30mm_Trend_SA.nc\n",
      "04/05/2022  12:42           229,145 r95p_Trend_SA.nc\n",
      "04/05/2022  12:42           229,145 r99p_Trend_SA.nc\n",
      "04/05/2022  12:42           229,145 rx1day_Trend_SA.nc\n",
      "04/05/2022  12:42           229,145 rx5day_Trend_SA.nc\n",
      "04/05/2022  12:42           229,145 sdii_Trend_SA.nc\n",
      "04/05/2022  12:42         4,583,916 Trends-Precip.png\n",
      "              12 arquivo(s)      7,104,511 bytes\n",
      "               2 pasta(s)   57,839,206,400 bytes dispon¡veis\n"
     ]
    }
   ],
   "source": [
    "!dir"
   ],
   "metadata": {
    "collapsed": false,
    "pycharm": {
     "name": "#%%\n"
    }
   }
  },
  {
   "cell_type": "code",
   "execution_count": 4,
   "outputs": [],
   "source": [
    "# Shape\n",
    "shp = 'C:/Users/Luiz/Documents/Shapefiles/South_America_ecorreg_diss/South_America_ecorregions_dissolve.shp'\n",
    "df_shp = salem.read_shapefile(shp)"
   ],
   "metadata": {
    "collapsed": false,
    "pycharm": {
     "name": "#%%\n"
    }
   }
  },
  {
   "cell_type": "code",
   "execution_count": 5,
   "outputs": [
    {
     "data": {
      "text/plain": "['r10mm_Trend_SA.nc',\n 'r20mm_Trend_SA.nc',\n 'r30mm_Trend_SA.nc',\n 'rx1day_Trend_SA.nc',\n 'rx5day_Trend_SA.nc',\n 'prcptot_Trend_SA.nc',\n 'sdii_Trend_SA.nc',\n 'r95p_Trend_SA.nc',\n 'r99p_Trend_SA.nc',\n 'cwd_Trend_SA.nc',\n 'cdd_Trend_SA.nc']"
     },
     "execution_count": 5,
     "metadata": {},
     "output_type": "execute_result"
    }
   ],
   "source": [
    "# Get list of netcdf files\n",
    "lista_nc = glob.glob('*.nc')\n",
    "# Sort list by other list\n",
    "list_index = ['r10mm', 'r20mm', 'r30mm', 'rx1day', 'rx5day', 'prcptot', 'sdii', 'r95p', 'r99p', 'cwd', 'cdd']\n",
    "ETCCDI_index = [x for x in lista_nc if x.split('_')[0] in list_index]\n",
    "ETCCDI_index.sort(key=lambda x: list_index.index(x.split('_')[0]))\n",
    "ETCCDI_index"
   ],
   "metadata": {
    "collapsed": false,
    "pycharm": {
     "name": "#%%\n"
    }
   }
  },
  {
   "cell_type": "markdown",
   "source": [
    "# Trends by Biomes"
   ],
   "metadata": {
    "collapsed": false,
    "pycharm": {
     "name": "#%% md\n"
    }
   }
  },
  {
   "cell_type": "code",
   "execution_count": 6,
   "outputs": [
    {
     "data": {
      "text/plain": "['Deserts & Xeric Shrublands',\n 'Flooded Grasslands & Savannas',\n 'Mangroves',\n 'Mediterranean Forests, Woodlands & Scrub',\n 'Montane Grasslands & Shrublands',\n 'Temperate Broadleaf & Mixed Forests',\n 'Temperate Grasslands, Savannas & Shrublands',\n 'Tropical & Subtropical Dry Broadleaf Forests',\n 'Tropical & Subtropical Grasslands, Savannas & Shrublands',\n 'Tropical & Subtropical Moist Broadleaf Forests',\n 'Tundra']"
     },
     "execution_count": 6,
     "metadata": {},
     "output_type": "execute_result"
    }
   ],
   "source": [
    "# get list to unique values biomes\n",
    "biomes = list(df_shp.drop([5]).BIOME_NAME.unique())\n",
    "biomes"
   ],
   "metadata": {
    "collapsed": false,
    "pycharm": {
     "name": "#%%\n"
    }
   }
  },
  {
   "cell_type": "code",
   "execution_count": 53,
   "outputs": [
    {
     "name": "stdout",
     "output_type": "stream",
     "text": [
      "Get Values Pixel to Pixel for Deserts & Xeric Shrublands\n",
      "Index:  R10MM  Biome:  Deserts & Xeric Shrublands\n",
      "Get Values Pixel to Pixel for Deserts & Xeric Shrublands\n",
      "Index:  R20MM  Biome:  Deserts & Xeric Shrublands\n",
      "Get Values Pixel to Pixel for Deserts & Xeric Shrublands\n",
      "Index:  R30MM  Biome:  Deserts & Xeric Shrublands\n",
      "Get Values Pixel to Pixel for Deserts & Xeric Shrublands\n",
      "Index:  RX1DAY  Biome:  Deserts & Xeric Shrublands\n",
      "Get Values Pixel to Pixel for Deserts & Xeric Shrublands\n",
      "Index:  RX5DAY  Biome:  Deserts & Xeric Shrublands\n",
      "Get Values Pixel to Pixel for Deserts & Xeric Shrublands\n",
      "Index:  PRCPTOT  Biome:  Deserts & Xeric Shrublands\n",
      "Get Values Pixel to Pixel for Deserts & Xeric Shrublands\n",
      "Index:  SDII  Biome:  Deserts & Xeric Shrublands\n",
      "Get Values Pixel to Pixel for Deserts & Xeric Shrublands\n",
      "Index:  R95P  Biome:  Deserts & Xeric Shrublands\n",
      "Get Values Pixel to Pixel for Deserts & Xeric Shrublands\n",
      "Index:  R99P  Biome:  Deserts & Xeric Shrublands\n",
      "Get Values Pixel to Pixel for Deserts & Xeric Shrublands\n",
      "Index:  CWD  Biome:  Deserts & Xeric Shrublands\n",
      "Get Values Pixel to Pixel for Deserts & Xeric Shrublands\n",
      "Index:  CDD  Biome:  Deserts & Xeric Shrublands\n",
      "Get Values Pixel to Pixel for Flooded Grasslands & Savannas\n",
      "Index:  R10MM  Biome:  Flooded Grasslands & Savannas\n",
      "Get Values Pixel to Pixel for Flooded Grasslands & Savannas\n",
      "Index:  R20MM  Biome:  Flooded Grasslands & Savannas\n",
      "Get Values Pixel to Pixel for Flooded Grasslands & Savannas\n",
      "Index:  R30MM  Biome:  Flooded Grasslands & Savannas\n",
      "Get Values Pixel to Pixel for Flooded Grasslands & Savannas\n",
      "Index:  RX1DAY  Biome:  Flooded Grasslands & Savannas\n",
      "Get Values Pixel to Pixel for Flooded Grasslands & Savannas\n",
      "Index:  RX5DAY  Biome:  Flooded Grasslands & Savannas\n",
      "Get Values Pixel to Pixel for Flooded Grasslands & Savannas\n",
      "Index:  PRCPTOT  Biome:  Flooded Grasslands & Savannas\n",
      "Get Values Pixel to Pixel for Flooded Grasslands & Savannas\n",
      "Index:  SDII  Biome:  Flooded Grasslands & Savannas\n",
      "Get Values Pixel to Pixel for Flooded Grasslands & Savannas\n",
      "Index:  R95P  Biome:  Flooded Grasslands & Savannas\n",
      "Get Values Pixel to Pixel for Flooded Grasslands & Savannas\n",
      "Index:  R99P  Biome:  Flooded Grasslands & Savannas\n",
      "Get Values Pixel to Pixel for Flooded Grasslands & Savannas\n",
      "Index:  CWD  Biome:  Flooded Grasslands & Savannas\n",
      "Get Values Pixel to Pixel for Flooded Grasslands & Savannas\n",
      "Index:  CDD  Biome:  Flooded Grasslands & Savannas\n",
      "Get Values Pixel to Pixel for Mangroves\n",
      "Index:  R10MM  Biome:  Mangroves\n",
      "Get Values Pixel to Pixel for Mangroves\n",
      "Index:  R20MM  Biome:  Mangroves\n",
      "Get Values Pixel to Pixel for Mangroves\n",
      "Index:  R30MM  Biome:  Mangroves\n",
      "Get Values Pixel to Pixel for Mangroves\n",
      "Index:  RX1DAY  Biome:  Mangroves\n",
      "Get Values Pixel to Pixel for Mangroves\n",
      "Index:  RX5DAY  Biome:  Mangroves\n",
      "Get Values Pixel to Pixel for Mangroves\n",
      "Index:  PRCPTOT  Biome:  Mangroves\n",
      "Get Values Pixel to Pixel for Mangroves\n",
      "Index:  SDII  Biome:  Mangroves\n",
      "Get Values Pixel to Pixel for Mangroves\n",
      "Index:  R95P  Biome:  Mangroves\n",
      "Get Values Pixel to Pixel for Mangroves\n",
      "Index:  R99P  Biome:  Mangroves\n",
      "Get Values Pixel to Pixel for Mangroves\n",
      "Index:  CWD  Biome:  Mangroves\n",
      "Get Values Pixel to Pixel for Mangroves\n",
      "Index:  CDD  Biome:  Mangroves\n",
      "Get Values Pixel to Pixel for Mediterranean Forests, Woodlands & Scrub\n",
      "Index:  R10MM  Biome:  Mediterranean Forests, Woodlands & Scrub\n",
      "Get Values Pixel to Pixel for Mediterranean Forests, Woodlands & Scrub\n",
      "Index:  R20MM  Biome:  Mediterranean Forests, Woodlands & Scrub\n",
      "Get Values Pixel to Pixel for Mediterranean Forests, Woodlands & Scrub\n",
      "Index:  R30MM  Biome:  Mediterranean Forests, Woodlands & Scrub\n",
      "Get Values Pixel to Pixel for Mediterranean Forests, Woodlands & Scrub\n",
      "Index:  RX1DAY  Biome:  Mediterranean Forests, Woodlands & Scrub\n",
      "Get Values Pixel to Pixel for Mediterranean Forests, Woodlands & Scrub\n",
      "Index:  RX5DAY  Biome:  Mediterranean Forests, Woodlands & Scrub\n",
      "Get Values Pixel to Pixel for Mediterranean Forests, Woodlands & Scrub\n",
      "Index:  PRCPTOT  Biome:  Mediterranean Forests, Woodlands & Scrub\n",
      "Get Values Pixel to Pixel for Mediterranean Forests, Woodlands & Scrub\n",
      "Index:  SDII  Biome:  Mediterranean Forests, Woodlands & Scrub\n",
      "Get Values Pixel to Pixel for Mediterranean Forests, Woodlands & Scrub\n",
      "Index:  R95P  Biome:  Mediterranean Forests, Woodlands & Scrub\n",
      "Get Values Pixel to Pixel for Mediterranean Forests, Woodlands & Scrub\n",
      "Index:  R99P  Biome:  Mediterranean Forests, Woodlands & Scrub\n",
      "Get Values Pixel to Pixel for Mediterranean Forests, Woodlands & Scrub\n",
      "Index:  CWD  Biome:  Mediterranean Forests, Woodlands & Scrub\n",
      "Get Values Pixel to Pixel for Mediterranean Forests, Woodlands & Scrub\n",
      "Index:  CDD  Biome:  Mediterranean Forests, Woodlands & Scrub\n",
      "Get Values Pixel to Pixel for Montane Grasslands & Shrublands\n",
      "Index:  R10MM  Biome:  Montane Grasslands & Shrublands\n",
      "Get Values Pixel to Pixel for Montane Grasslands & Shrublands\n",
      "Index:  R20MM  Biome:  Montane Grasslands & Shrublands\n",
      "Get Values Pixel to Pixel for Montane Grasslands & Shrublands\n",
      "Index:  R30MM  Biome:  Montane Grasslands & Shrublands\n",
      "Get Values Pixel to Pixel for Montane Grasslands & Shrublands\n",
      "Index:  RX1DAY  Biome:  Montane Grasslands & Shrublands\n",
      "Get Values Pixel to Pixel for Montane Grasslands & Shrublands\n",
      "Index:  RX5DAY  Biome:  Montane Grasslands & Shrublands\n",
      "Get Values Pixel to Pixel for Montane Grasslands & Shrublands\n",
      "Index:  PRCPTOT  Biome:  Montane Grasslands & Shrublands\n",
      "Get Values Pixel to Pixel for Montane Grasslands & Shrublands\n",
      "Index:  SDII  Biome:  Montane Grasslands & Shrublands\n",
      "Get Values Pixel to Pixel for Montane Grasslands & Shrublands\n",
      "Index:  R95P  Biome:  Montane Grasslands & Shrublands\n",
      "Get Values Pixel to Pixel for Montane Grasslands & Shrublands\n",
      "Index:  R99P  Biome:  Montane Grasslands & Shrublands\n",
      "Get Values Pixel to Pixel for Montane Grasslands & Shrublands\n",
      "Index:  CWD  Biome:  Montane Grasslands & Shrublands\n",
      "Get Values Pixel to Pixel for Montane Grasslands & Shrublands\n",
      "Index:  CDD  Biome:  Montane Grasslands & Shrublands\n",
      "Get Values Pixel to Pixel for Temperate Broadleaf & Mixed Forests\n",
      "Index:  R10MM  Biome:  Temperate Broadleaf & Mixed Forests\n",
      "Get Values Pixel to Pixel for Temperate Broadleaf & Mixed Forests\n",
      "Index:  R20MM  Biome:  Temperate Broadleaf & Mixed Forests\n",
      "Get Values Pixel to Pixel for Temperate Broadleaf & Mixed Forests\n",
      "Index:  R30MM  Biome:  Temperate Broadleaf & Mixed Forests\n",
      "Get Values Pixel to Pixel for Temperate Broadleaf & Mixed Forests\n",
      "Index:  RX1DAY  Biome:  Temperate Broadleaf & Mixed Forests\n",
      "Get Values Pixel to Pixel for Temperate Broadleaf & Mixed Forests\n",
      "Index:  RX5DAY  Biome:  Temperate Broadleaf & Mixed Forests\n",
      "Get Values Pixel to Pixel for Temperate Broadleaf & Mixed Forests\n",
      "Index:  PRCPTOT  Biome:  Temperate Broadleaf & Mixed Forests\n",
      "Get Values Pixel to Pixel for Temperate Broadleaf & Mixed Forests\n",
      "Index:  SDII  Biome:  Temperate Broadleaf & Mixed Forests\n",
      "Get Values Pixel to Pixel for Temperate Broadleaf & Mixed Forests\n",
      "Index:  R95P  Biome:  Temperate Broadleaf & Mixed Forests\n",
      "Get Values Pixel to Pixel for Temperate Broadleaf & Mixed Forests\n",
      "Index:  R99P  Biome:  Temperate Broadleaf & Mixed Forests\n",
      "Get Values Pixel to Pixel for Temperate Broadleaf & Mixed Forests\n",
      "Index:  CWD  Biome:  Temperate Broadleaf & Mixed Forests\n",
      "Get Values Pixel to Pixel for Temperate Broadleaf & Mixed Forests\n",
      "Index:  CDD  Biome:  Temperate Broadleaf & Mixed Forests\n",
      "Get Values Pixel to Pixel for Temperate Grasslands, Savannas & Shrublands\n",
      "Index:  R10MM  Biome:  Temperate Grasslands, Savannas & Shrublands\n",
      "Get Values Pixel to Pixel for Temperate Grasslands, Savannas & Shrublands\n",
      "Index:  R20MM  Biome:  Temperate Grasslands, Savannas & Shrublands\n",
      "Get Values Pixel to Pixel for Temperate Grasslands, Savannas & Shrublands\n",
      "Index:  R30MM  Biome:  Temperate Grasslands, Savannas & Shrublands\n",
      "Get Values Pixel to Pixel for Temperate Grasslands, Savannas & Shrublands\n",
      "Index:  RX1DAY  Biome:  Temperate Grasslands, Savannas & Shrublands\n",
      "Get Values Pixel to Pixel for Temperate Grasslands, Savannas & Shrublands\n",
      "Index:  RX5DAY  Biome:  Temperate Grasslands, Savannas & Shrublands\n",
      "Get Values Pixel to Pixel for Temperate Grasslands, Savannas & Shrublands\n",
      "Index:  PRCPTOT  Biome:  Temperate Grasslands, Savannas & Shrublands\n",
      "Get Values Pixel to Pixel for Temperate Grasslands, Savannas & Shrublands\n",
      "Index:  SDII  Biome:  Temperate Grasslands, Savannas & Shrublands\n",
      "Get Values Pixel to Pixel for Temperate Grasslands, Savannas & Shrublands\n",
      "Index:  R95P  Biome:  Temperate Grasslands, Savannas & Shrublands\n",
      "Get Values Pixel to Pixel for Temperate Grasslands, Savannas & Shrublands\n",
      "Index:  R99P  Biome:  Temperate Grasslands, Savannas & Shrublands\n",
      "Get Values Pixel to Pixel for Temperate Grasslands, Savannas & Shrublands\n",
      "Index:  CWD  Biome:  Temperate Grasslands, Savannas & Shrublands\n",
      "Get Values Pixel to Pixel for Temperate Grasslands, Savannas & Shrublands\n",
      "Index:  CDD  Biome:  Temperate Grasslands, Savannas & Shrublands\n",
      "Get Values Pixel to Pixel for Tropical & Subtropical Dry Broadleaf Forests\n",
      "Index:  R10MM  Biome:  Tropical & Subtropical Dry Broadleaf Forests\n",
      "Get Values Pixel to Pixel for Tropical & Subtropical Dry Broadleaf Forests\n",
      "Index:  R20MM  Biome:  Tropical & Subtropical Dry Broadleaf Forests\n",
      "Get Values Pixel to Pixel for Tropical & Subtropical Dry Broadleaf Forests\n",
      "Index:  R30MM  Biome:  Tropical & Subtropical Dry Broadleaf Forests\n",
      "Get Values Pixel to Pixel for Tropical & Subtropical Dry Broadleaf Forests\n",
      "Index:  RX1DAY  Biome:  Tropical & Subtropical Dry Broadleaf Forests\n",
      "Get Values Pixel to Pixel for Tropical & Subtropical Dry Broadleaf Forests\n",
      "Index:  RX5DAY  Biome:  Tropical & Subtropical Dry Broadleaf Forests\n",
      "Get Values Pixel to Pixel for Tropical & Subtropical Dry Broadleaf Forests\n",
      "Index:  PRCPTOT  Biome:  Tropical & Subtropical Dry Broadleaf Forests\n",
      "Get Values Pixel to Pixel for Tropical & Subtropical Dry Broadleaf Forests\n",
      "Index:  SDII  Biome:  Tropical & Subtropical Dry Broadleaf Forests\n",
      "Get Values Pixel to Pixel for Tropical & Subtropical Dry Broadleaf Forests\n",
      "Index:  R95P  Biome:  Tropical & Subtropical Dry Broadleaf Forests\n",
      "Get Values Pixel to Pixel for Tropical & Subtropical Dry Broadleaf Forests\n",
      "Index:  R99P  Biome:  Tropical & Subtropical Dry Broadleaf Forests\n",
      "Get Values Pixel to Pixel for Tropical & Subtropical Dry Broadleaf Forests\n",
      "Index:  CWD  Biome:  Tropical & Subtropical Dry Broadleaf Forests\n",
      "Get Values Pixel to Pixel for Tropical & Subtropical Dry Broadleaf Forests\n",
      "Index:  CDD  Biome:  Tropical & Subtropical Dry Broadleaf Forests\n",
      "Get Values Pixel to Pixel for Tropical & Subtropical Grasslands, Savannas & Shrublands\n",
      "Index:  R10MM  Biome:  Tropical & Subtropical Grasslands, Savannas & Shrublands\n",
      "Get Values Pixel to Pixel for Tropical & Subtropical Grasslands, Savannas & Shrublands\n",
      "Index:  R20MM  Biome:  Tropical & Subtropical Grasslands, Savannas & Shrublands\n",
      "Get Values Pixel to Pixel for Tropical & Subtropical Grasslands, Savannas & Shrublands\n",
      "Index:  R30MM  Biome:  Tropical & Subtropical Grasslands, Savannas & Shrublands\n",
      "Get Values Pixel to Pixel for Tropical & Subtropical Grasslands, Savannas & Shrublands\n",
      "Index:  RX1DAY  Biome:  Tropical & Subtropical Grasslands, Savannas & Shrublands\n",
      "Get Values Pixel to Pixel for Tropical & Subtropical Grasslands, Savannas & Shrublands\n",
      "Index:  RX5DAY  Biome:  Tropical & Subtropical Grasslands, Savannas & Shrublands\n",
      "Get Values Pixel to Pixel for Tropical & Subtropical Grasslands, Savannas & Shrublands\n",
      "Index:  PRCPTOT  Biome:  Tropical & Subtropical Grasslands, Savannas & Shrublands\n",
      "Get Values Pixel to Pixel for Tropical & Subtropical Grasslands, Savannas & Shrublands\n",
      "Index:  SDII  Biome:  Tropical & Subtropical Grasslands, Savannas & Shrublands\n",
      "Get Values Pixel to Pixel for Tropical & Subtropical Grasslands, Savannas & Shrublands\n",
      "Index:  R95P  Biome:  Tropical & Subtropical Grasslands, Savannas & Shrublands\n",
      "Get Values Pixel to Pixel for Tropical & Subtropical Grasslands, Savannas & Shrublands\n",
      "Index:  R99P  Biome:  Tropical & Subtropical Grasslands, Savannas & Shrublands\n",
      "Get Values Pixel to Pixel for Tropical & Subtropical Grasslands, Savannas & Shrublands\n",
      "Index:  CWD  Biome:  Tropical & Subtropical Grasslands, Savannas & Shrublands\n",
      "Get Values Pixel to Pixel for Tropical & Subtropical Grasslands, Savannas & Shrublands\n",
      "Index:  CDD  Biome:  Tropical & Subtropical Grasslands, Savannas & Shrublands\n",
      "Get Values Pixel to Pixel for Tropical & Subtropical Moist Broadleaf Forests\n",
      "Index:  R10MM  Biome:  Tropical & Subtropical Moist Broadleaf Forests\n",
      "Get Values Pixel to Pixel for Tropical & Subtropical Moist Broadleaf Forests\n",
      "Index:  R20MM  Biome:  Tropical & Subtropical Moist Broadleaf Forests\n",
      "Get Values Pixel to Pixel for Tropical & Subtropical Moist Broadleaf Forests\n",
      "Index:  R30MM  Biome:  Tropical & Subtropical Moist Broadleaf Forests\n",
      "Get Values Pixel to Pixel for Tropical & Subtropical Moist Broadleaf Forests\n",
      "Index:  RX1DAY  Biome:  Tropical & Subtropical Moist Broadleaf Forests\n",
      "Get Values Pixel to Pixel for Tropical & Subtropical Moist Broadleaf Forests\n",
      "Index:  RX5DAY  Biome:  Tropical & Subtropical Moist Broadleaf Forests\n",
      "Get Values Pixel to Pixel for Tropical & Subtropical Moist Broadleaf Forests\n",
      "Index:  PRCPTOT  Biome:  Tropical & Subtropical Moist Broadleaf Forests\n",
      "Get Values Pixel to Pixel for Tropical & Subtropical Moist Broadleaf Forests\n",
      "Index:  SDII  Biome:  Tropical & Subtropical Moist Broadleaf Forests\n",
      "Get Values Pixel to Pixel for Tropical & Subtropical Moist Broadleaf Forests\n",
      "Index:  R95P  Biome:  Tropical & Subtropical Moist Broadleaf Forests\n",
      "Get Values Pixel to Pixel for Tropical & Subtropical Moist Broadleaf Forests\n",
      "Index:  R99P  Biome:  Tropical & Subtropical Moist Broadleaf Forests\n",
      "Get Values Pixel to Pixel for Tropical & Subtropical Moist Broadleaf Forests\n",
      "Index:  CWD  Biome:  Tropical & Subtropical Moist Broadleaf Forests\n",
      "Get Values Pixel to Pixel for Tropical & Subtropical Moist Broadleaf Forests\n",
      "Index:  CDD  Biome:  Tropical & Subtropical Moist Broadleaf Forests\n",
      "Get Values Pixel to Pixel for Tundra\n",
      "Index:  R10MM  Biome:  Tundra\n",
      "Get Values Pixel to Pixel for Tundra\n",
      "Index:  R20MM  Biome:  Tundra\n",
      "Get Values Pixel to Pixel for Tundra\n",
      "Index:  R30MM  Biome:  Tundra\n",
      "Get Values Pixel to Pixel for Tundra\n",
      "Index:  RX1DAY  Biome:  Tundra\n",
      "Get Values Pixel to Pixel for Tundra\n",
      "Index:  RX5DAY  Biome:  Tundra\n",
      "Get Values Pixel to Pixel for Tundra\n",
      "Index:  PRCPTOT  Biome:  Tundra\n",
      "Get Values Pixel to Pixel for Tundra\n",
      "Index:  SDII  Biome:  Tundra\n",
      "Get Values Pixel to Pixel for Tundra\n",
      "Index:  R95P  Biome:  Tundra\n",
      "Get Values Pixel to Pixel for Tundra\n",
      "Index:  R99P  Biome:  Tundra\n",
      "Get Values Pixel to Pixel for Tundra\n",
      "Index:  CWD  Biome:  Tundra\n",
      "Get Values Pixel to Pixel for Tundra\n",
      "Index:  CDD  Biome:  Tundra\n",
      "Creating Dataframe...\n",
      "Done!\n"
     ]
    }
   ],
   "source": [
    "alpha = 0.05\n",
    "trend_list = []\n",
    "sig_list = []\n",
    "condition_list = []\n",
    "biomes_list = []\n",
    "index_list = []\n",
    "\n",
    "for biome in biomes:\n",
    "    for file_nc in ETCCDI_index:\n",
    "        ds = xr.open_dataset(file_nc, decode_timedelta=False)\n",
    "        # clip for each biome\n",
    "        ds = mask_dataset(ds, shapefile_path=shp, col_shapefile='BIOME_NAME', query=biome)\n",
    "\n",
    "        # Remove 'time_bnds' if exists\n",
    "        if 'time_bnds' in ds:\n",
    "            ds = ds.drop_vars('time_bnds')\n",
    "        else:\n",
    "            pass\n",
    "        # Get values\n",
    "        df = ds.to_dataframe()\n",
    "        Trend = df['Trend']\n",
    "        Sig = df['Sig']\n",
    "        df['Biome'] = biome\n",
    "        df['Index_ETCCDI'] = file_nc.split('_')[0]\n",
    "\n",
    "        # Add categories values\n",
    "        df.loc[(df.Sig <= alpha) & (df.Trend > 0), 'Condition'] = 'Positive Significant'\n",
    "        df.loc[(df.Sig <= alpha) & (df.Trend < 0), 'Condition'] = 'Negative Significant'\n",
    "        df.loc[(df.Sig > alpha) & (df.Trend > 0), 'Condition'] = 'Positive Non-Significant'\n",
    "        df.loc[(df.Sig > alpha) & (df.Trend < 0), 'Condition'] = 'Negative Non-Significant'\n",
    "\n",
    "        Condition = df['Condition']\n",
    "        Biomes = df['Biome']\n",
    "        Index = df['Index_ETCCDI']\n",
    "        # Add to list\n",
    "        trend_list.append(Trend)\n",
    "        sig_list.append(Sig)\n",
    "        condition_list.append(Condition)\n",
    "        biomes_list.append(Biomes)\n",
    "        index_list.append(Index)\n",
    "\n",
    "        print('Get Values Pixel to Pixel for {}'.format(biome))\n",
    "        print(f'Index: ', file_nc.upper().split('_')[0], ' Biome: ', biome)\n",
    "\n",
    "print('Creating Dataframe...')\n",
    "# Concatenate lists\n",
    "a = pd.concat(trend_list)\n",
    "b = pd.concat(sig_list)\n",
    "c = pd.concat(condition_list)\n",
    "d = pd.concat(biomes_list)\n",
    "e = pd.concat(index_list)\n",
    "# Create dataframe\n",
    "df = pd.concat([a, b, c, d, e], axis=1).dropna()\n",
    "\n",
    "print('Done!')"
   ],
   "metadata": {
    "collapsed": false,
    "pycharm": {
     "name": "#%%\n"
    }
   }
  },
  {
   "cell_type": "code",
   "execution_count": 55,
   "outputs": [],
   "source": [
    "# Save dataframe\n",
    "# df.to_excel('Trend_ETCCDI_Pixel_to_Pixel_Precip-Biomes.xlsx')"
   ],
   "metadata": {
    "collapsed": false,
    "pycharm": {
     "name": "#%%\n"
    }
   }
  },
  {
   "cell_type": "code",
   "execution_count": 65,
   "outputs": [
    {
     "data": {
      "text/plain": "Biome                       Index_ETCCDI  Condition               \nDeserts & Xeric Shrublands  cdd           Positive Non-Significant     41.5\n                                          Negative Non-Significant     39.2\n                                          Negative Significant         12.3\n                                          Positive Significant          6.9\n                            cwd           Negative Significant         45.5\n                                                                      ...  \nTundra                      r20mm         Negative Significant        100.0\n                            r95p          Negative Significant        100.0\n                            rx1day        Negative Significant        100.0\n                            rx5day        Negative Significant        100.0\n                            sdii          Negative Significant        100.0\nName: Percentage, Length: 427, dtype: float64"
     },
     "execution_count": 65,
     "metadata": {},
     "output_type": "execute_result"
    }
   ],
   "source": [
    "# Calculate percentage of Condition Trends for each biome\n",
    "(df.groupby(['Biome', 'Index_ETCCDI'])['Condition'].value_counts(normalize=True) * 100).round(1).rename(\n",
    "    'Percentage')"
   ],
   "metadata": {
    "collapsed": false,
    "pycharm": {
     "name": "#%%\n"
    }
   }
  },
  {
   "cell_type": "markdown",
   "source": [
    "# Trends by IPCC regions"
   ],
   "metadata": {
    "collapsed": false,
    "pycharm": {
     "name": "#%% md\n"
    }
   }
  },
  {
   "cell_type": "code",
   "execution_count": 7,
   "outputs": [],
   "source": [
    "shp_IPCC = 'C:/Users/Luiz/Documents/Shapefiles/IPCC_Regions_SA/IPCC_Regions_SA.shp'\n",
    "df_shp_IPCC = salem.read_shapefile(shp_IPCC)"
   ],
   "metadata": {
    "collapsed": false,
    "pycharm": {
     "name": "#%%\n"
    }
   }
  },
  {
   "cell_type": "code",
   "execution_count": 8,
   "outputs": [
    {
     "data": {
      "text/plain": "['NWS', 'NSA', 'NES', 'SAM', 'SWS', 'SES', 'SSA']"
     },
     "execution_count": 8,
     "metadata": {},
     "output_type": "execute_result"
    }
   ],
   "source": [
    "# Pegar lista com valores unicos\n",
    "ipcc_regions = list(df_shp_IPCC.Acronym.unique())\n",
    "ipcc_regions"
   ],
   "metadata": {
    "collapsed": false,
    "pycharm": {
     "name": "#%%\n"
    }
   }
  },
  {
   "cell_type": "code",
   "execution_count": 20,
   "outputs": [
    {
     "name": "stdout",
     "output_type": "stream",
     "text": [
      "Get Values Pixel to Pixel for NWS\n",
      "Index:  R10MM  IPCC-Region:  NWS\n",
      "Get Values Pixel to Pixel for NWS\n",
      "Index:  R20MM  IPCC-Region:  NWS\n",
      "Get Values Pixel to Pixel for NWS\n",
      "Index:  R30MM  IPCC-Region:  NWS\n",
      "Get Values Pixel to Pixel for NWS\n",
      "Index:  RX1DAY  IPCC-Region:  NWS\n",
      "Get Values Pixel to Pixel for NWS\n",
      "Index:  RX5DAY  IPCC-Region:  NWS\n",
      "Get Values Pixel to Pixel for NWS\n",
      "Index:  PRCPTOT  IPCC-Region:  NWS\n",
      "Get Values Pixel to Pixel for NWS\n",
      "Index:  SDII  IPCC-Region:  NWS\n",
      "Get Values Pixel to Pixel for NWS\n",
      "Index:  R95P  IPCC-Region:  NWS\n",
      "Get Values Pixel to Pixel for NWS\n",
      "Index:  R99P  IPCC-Region:  NWS\n",
      "Get Values Pixel to Pixel for NWS\n",
      "Index:  CWD  IPCC-Region:  NWS\n",
      "Get Values Pixel to Pixel for NWS\n",
      "Index:  CDD  IPCC-Region:  NWS\n",
      "Get Values Pixel to Pixel for NSA\n",
      "Index:  R10MM  IPCC-Region:  NSA\n",
      "Get Values Pixel to Pixel for NSA\n",
      "Index:  R20MM  IPCC-Region:  NSA\n",
      "Get Values Pixel to Pixel for NSA\n",
      "Index:  R30MM  IPCC-Region:  NSA\n",
      "Get Values Pixel to Pixel for NSA\n",
      "Index:  RX1DAY  IPCC-Region:  NSA\n",
      "Get Values Pixel to Pixel for NSA\n",
      "Index:  RX5DAY  IPCC-Region:  NSA\n",
      "Get Values Pixel to Pixel for NSA\n",
      "Index:  PRCPTOT  IPCC-Region:  NSA\n",
      "Get Values Pixel to Pixel for NSA\n",
      "Index:  SDII  IPCC-Region:  NSA\n",
      "Get Values Pixel to Pixel for NSA\n",
      "Index:  R95P  IPCC-Region:  NSA\n",
      "Get Values Pixel to Pixel for NSA\n",
      "Index:  R99P  IPCC-Region:  NSA\n",
      "Get Values Pixel to Pixel for NSA\n",
      "Index:  CWD  IPCC-Region:  NSA\n",
      "Get Values Pixel to Pixel for NSA\n",
      "Index:  CDD  IPCC-Region:  NSA\n",
      "Get Values Pixel to Pixel for NES\n",
      "Index:  R10MM  IPCC-Region:  NES\n",
      "Get Values Pixel to Pixel for NES\n",
      "Index:  R20MM  IPCC-Region:  NES\n",
      "Get Values Pixel to Pixel for NES\n",
      "Index:  R30MM  IPCC-Region:  NES\n",
      "Get Values Pixel to Pixel for NES\n",
      "Index:  RX1DAY  IPCC-Region:  NES\n",
      "Get Values Pixel to Pixel for NES\n",
      "Index:  RX5DAY  IPCC-Region:  NES\n",
      "Get Values Pixel to Pixel for NES\n",
      "Index:  PRCPTOT  IPCC-Region:  NES\n",
      "Get Values Pixel to Pixel for NES\n",
      "Index:  SDII  IPCC-Region:  NES\n",
      "Get Values Pixel to Pixel for NES\n",
      "Index:  R95P  IPCC-Region:  NES\n",
      "Get Values Pixel to Pixel for NES\n",
      "Index:  R99P  IPCC-Region:  NES\n",
      "Get Values Pixel to Pixel for NES\n",
      "Index:  CWD  IPCC-Region:  NES\n",
      "Get Values Pixel to Pixel for NES\n",
      "Index:  CDD  IPCC-Region:  NES\n",
      "Get Values Pixel to Pixel for SAM\n",
      "Index:  R10MM  IPCC-Region:  SAM\n",
      "Get Values Pixel to Pixel for SAM\n",
      "Index:  R20MM  IPCC-Region:  SAM\n",
      "Get Values Pixel to Pixel for SAM\n",
      "Index:  R30MM  IPCC-Region:  SAM\n",
      "Get Values Pixel to Pixel for SAM\n",
      "Index:  RX1DAY  IPCC-Region:  SAM\n",
      "Get Values Pixel to Pixel for SAM\n",
      "Index:  RX5DAY  IPCC-Region:  SAM\n",
      "Get Values Pixel to Pixel for SAM\n",
      "Index:  PRCPTOT  IPCC-Region:  SAM\n",
      "Get Values Pixel to Pixel for SAM\n",
      "Index:  SDII  IPCC-Region:  SAM\n",
      "Get Values Pixel to Pixel for SAM\n",
      "Index:  R95P  IPCC-Region:  SAM\n",
      "Get Values Pixel to Pixel for SAM\n",
      "Index:  R99P  IPCC-Region:  SAM\n",
      "Get Values Pixel to Pixel for SAM\n",
      "Index:  CWD  IPCC-Region:  SAM\n",
      "Get Values Pixel to Pixel for SAM\n",
      "Index:  CDD  IPCC-Region:  SAM\n",
      "Get Values Pixel to Pixel for SWS\n",
      "Index:  R10MM  IPCC-Region:  SWS\n",
      "Get Values Pixel to Pixel for SWS\n",
      "Index:  R20MM  IPCC-Region:  SWS\n",
      "Get Values Pixel to Pixel for SWS\n",
      "Index:  R30MM  IPCC-Region:  SWS\n",
      "Get Values Pixel to Pixel for SWS\n",
      "Index:  RX1DAY  IPCC-Region:  SWS\n",
      "Get Values Pixel to Pixel for SWS\n",
      "Index:  RX5DAY  IPCC-Region:  SWS\n",
      "Get Values Pixel to Pixel for SWS\n",
      "Index:  PRCPTOT  IPCC-Region:  SWS\n",
      "Get Values Pixel to Pixel for SWS\n",
      "Index:  SDII  IPCC-Region:  SWS\n",
      "Get Values Pixel to Pixel for SWS\n",
      "Index:  R95P  IPCC-Region:  SWS\n",
      "Get Values Pixel to Pixel for SWS\n",
      "Index:  R99P  IPCC-Region:  SWS\n",
      "Get Values Pixel to Pixel for SWS\n",
      "Index:  CWD  IPCC-Region:  SWS\n",
      "Get Values Pixel to Pixel for SWS\n",
      "Index:  CDD  IPCC-Region:  SWS\n",
      "Get Values Pixel to Pixel for SES\n",
      "Index:  R10MM  IPCC-Region:  SES\n",
      "Get Values Pixel to Pixel for SES\n",
      "Index:  R20MM  IPCC-Region:  SES\n",
      "Get Values Pixel to Pixel for SES\n",
      "Index:  R30MM  IPCC-Region:  SES\n",
      "Get Values Pixel to Pixel for SES\n",
      "Index:  RX1DAY  IPCC-Region:  SES\n",
      "Get Values Pixel to Pixel for SES\n",
      "Index:  RX5DAY  IPCC-Region:  SES\n",
      "Get Values Pixel to Pixel for SES\n",
      "Index:  PRCPTOT  IPCC-Region:  SES\n",
      "Get Values Pixel to Pixel for SES\n",
      "Index:  SDII  IPCC-Region:  SES\n",
      "Get Values Pixel to Pixel for SES\n",
      "Index:  R95P  IPCC-Region:  SES\n",
      "Get Values Pixel to Pixel for SES\n",
      "Index:  R99P  IPCC-Region:  SES\n",
      "Get Values Pixel to Pixel for SES\n",
      "Index:  CWD  IPCC-Region:  SES\n",
      "Get Values Pixel to Pixel for SES\n",
      "Index:  CDD  IPCC-Region:  SES\n",
      "Get Values Pixel to Pixel for SSA\n",
      "Index:  R10MM  IPCC-Region:  SSA\n",
      "Get Values Pixel to Pixel for SSA\n",
      "Index:  R20MM  IPCC-Region:  SSA\n",
      "Get Values Pixel to Pixel for SSA\n",
      "Index:  R30MM  IPCC-Region:  SSA\n",
      "Get Values Pixel to Pixel for SSA\n",
      "Index:  RX1DAY  IPCC-Region:  SSA\n",
      "Get Values Pixel to Pixel for SSA\n",
      "Index:  RX5DAY  IPCC-Region:  SSA\n",
      "Get Values Pixel to Pixel for SSA\n",
      "Index:  PRCPTOT  IPCC-Region:  SSA\n",
      "Get Values Pixel to Pixel for SSA\n",
      "Index:  SDII  IPCC-Region:  SSA\n",
      "Get Values Pixel to Pixel for SSA\n",
      "Index:  R95P  IPCC-Region:  SSA\n",
      "Get Values Pixel to Pixel for SSA\n",
      "Index:  R99P  IPCC-Region:  SSA\n",
      "Get Values Pixel to Pixel for SSA\n",
      "Index:  CWD  IPCC-Region:  SSA\n",
      "Get Values Pixel to Pixel for SSA\n",
      "Index:  CDD  IPCC-Region:  SSA\n",
      "Creating Dataframe...\n",
      "Done!\n"
     ]
    }
   ],
   "source": [
    "alpha = 0.05\n",
    "trend_list = []\n",
    "sig_list = []\n",
    "condition_list = []\n",
    "IPCC_list = []\n",
    "index_list = []\n",
    "\n",
    "for region in ipcc_regions:\n",
    "    for file_nc in ETCCDI_index:\n",
    "        ds = xr.open_dataset(file_nc, decode_timedelta=False)\n",
    "        # clip for each biome\n",
    "        try:\n",
    "            ds = mask_dataset(ds, shapefile_path=shp_IPCC, col_shapefile='Acronym', query=region)\n",
    "        except IndexError as e:\n",
    "            ds = ds.salem.subset(shape=df_shp_IPCC.query(f'Acronym == \"{region}\"'))\n",
    "            ds = ds.salem.roi(shape=df_shp_IPCC.query(f'Acronym == \"{region}\"'))\n",
    "\n",
    "        # Remove 'time_bnds' if exists\n",
    "        if 'time_bnds' in ds:\n",
    "            ds = ds.drop_vars('time_bnds')\n",
    "        else:\n",
    "            pass\n",
    "        # Get values\n",
    "        df = ds.to_dataframe()\n",
    "        Trend = df['Trend']\n",
    "        Sig = df['Sig']\n",
    "        df['IPCC-Region'] = region\n",
    "        df['Index_ETCCDI'] = file_nc.split('_')[0]\n",
    "\n",
    "        # Add categories values\n",
    "        df.loc[(df.Sig <= alpha) & (df.Trend > 0), 'Condition'] = 'Positive Significant'\n",
    "        df.loc[(df.Sig <= alpha) & (df.Trend < 0), 'Condition'] = 'Negative Significant'\n",
    "        df.loc[(df.Sig > alpha) & (df.Trend > 0), 'Condition'] = 'Positive Non-Significant'\n",
    "        df.loc[(df.Sig > alpha) & (df.Trend < 0), 'Condition'] = 'Negative Non-Significant'\n",
    "\n",
    "        Condition = df['Condition']\n",
    "        IPCC_Regions = df['IPCC-Region']\n",
    "        Index = df['Index_ETCCDI']\n",
    "        # Add to list\n",
    "        trend_list.append(Trend)\n",
    "        sig_list.append(Sig)\n",
    "        condition_list.append(Condition)\n",
    "        IPCC_list.append(IPCC_Regions)\n",
    "        index_list.append(Index)\n",
    "\n",
    "        print('Get Values Pixel to Pixel for {}'.format(region))\n",
    "        print(f'Index: ', file_nc.upper().split('_')[0], ' IPCC-Region: ', region)\n",
    "\n",
    "print('Creating Dataframe...')\n",
    "# Concatenate lists\n",
    "a = pd.concat(trend_list)\n",
    "b = pd.concat(sig_list)\n",
    "c = pd.concat(condition_list)\n",
    "d = pd.concat(IPCC_list)\n",
    "e = pd.concat(index_list)\n",
    "# Create dataframe\n",
    "df = pd.concat([a, b, c, d, e], axis=1).dropna()\n",
    "\n",
    "print('Done!')"
   ],
   "metadata": {
    "collapsed": false,
    "pycharm": {
     "name": "#%%\n"
    }
   }
  },
  {
   "cell_type": "code",
   "execution_count": 22,
   "outputs": [],
   "source": [
    "# Save dataframe\n",
    "df.to_excel('Trend_ETCCDI_Pixel_to_Pixel_Precip-IPCC-Regions.xlsx')"
   ],
   "metadata": {
    "collapsed": false,
    "pycharm": {
     "name": "#%%\n"
    }
   }
  },
  {
   "cell_type": "code",
   "execution_count": 24,
   "outputs": [
    {
     "data": {
      "text/plain": "IPCC-Region  Index_ETCCDI  Condition               \nNES          cdd           Positive Non-Significant    49.6\n                           Positive Significant        23.6\n                           Negative Non-Significant    21.7\n                           Negative Significant         5.1\n             cwd           Negative Significant        90.5\n                                                       ... \nSWS          rx5day        Positive Significant         6.4\n             sdii          Positive Non-Significant    33.3\n                           Negative Non-Significant    32.5\n                           Negative Significant        18.7\n                           Positive Significant        15.5\nName: Percentage, Length: 307, dtype: float64"
     },
     "execution_count": 24,
     "metadata": {},
     "output_type": "execute_result"
    }
   ],
   "source": [
    "# Calculate percentage of Condition Trends for each IPCC region\n",
    "(df.groupby(['IPCC-Region', 'Index_ETCCDI'])['Condition'].value_counts(normalize=True) * 100).round(1).rename(\n",
    "    'Percentage')"
   ],
   "metadata": {
    "collapsed": false,
    "pycharm": {
     "name": "#%%\n"
    }
   }
  }
 ],
 "metadata": {
  "kernelspec": {
   "display_name": "Python 3",
   "language": "python",
   "name": "python3"
  },
  "language_info": {
   "codemirror_mode": {
    "name": "ipython",
    "version": 2
   },
   "file_extension": ".py",
   "mimetype": "text/x-python",
   "name": "python",
   "nbconvert_exporter": "python",
   "pygments_lexer": "ipython2",
   "version": "2.7.6"
  }
 },
 "nbformat": 4,
 "nbformat_minor": 0
}