{
 "cells": [
  {
   "cell_type": "code",
   "execution_count": 1,
   "id": "d7ee1d54-4b62-4051-b8a9-7360712ee3d2",
   "metadata": {},
   "outputs": [],
   "source": [
    "from process_data import ProcessData\n",
    "import xarray as xr"
   ]
  },
  {
   "cell_type": "code",
   "execution_count": 2,
   "id": "5dd4545f-9e86-4f41-9994-f29fabf4e078",
   "metadata": {},
   "outputs": [
    {
     "data": {
      "text/html": [
       "<table style=\"border: 2px solid white;\">\n",
       "<tr>\n",
       "<td style=\"vertical-align: top; border: 0px solid white\">\n",
       "<h3 style=\"text-align: left;\">Client</h3>\n",
       "<ul style=\"text-align: left; list-style: none; margin: 0; padding: 0;\">\n",
       "  <li><b>Scheduler: </b>tcp://127.0.0.1:35681</li>\n",
       "  <li><b>Dashboard: </b><a href='http://127.0.0.1:8787/status' target='_blank'>http://127.0.0.1:8787/status</a></li>\n",
       "</ul>\n",
       "</td>\n",
       "<td style=\"vertical-align: top; border: 0px solid white\">\n",
       "<h3 style=\"text-align: left;\">Cluster</h3>\n",
       "<ul style=\"text-align: left; list-style:none; margin: 0; padding: 0;\">\n",
       "  <li><b>Workers: </b>1</li>\n",
       "  <li><b>Cores: </b>4</li>\n",
       "  <li><b>Memory: </b>4.00 GB</li>\n",
       "</ul>\n",
       "</td>\n",
       "</tr>\n",
       "</table>"
      ],
      "text/plain": [
       "<Client: 'tcp://127.0.0.1:35681' processes=1 threads=4, memory=4.00 GB>"
      ]
     },
     "execution_count": 2,
     "metadata": {},
     "output_type": "execute_result"
    }
   ],
   "source": [
    "from distributed import Client\n",
    "\n",
    "# Depending on your workstation specifications, you may need to adjust these values.\n",
    "# On a single machine, n_workers=1 is usually better.\n",
    "client=Client(n_workers=1, threads_per_worker=4, memory_limit=\"4GB\")\n",
    "client"
   ]
  },
  {
   "cell_type": "code",
   "execution_count": 3,
   "id": "8d6cd273-9c60-48aa-880d-30a08f6f9672",
   "metadata": {},
   "outputs": [],
   "source": [
    "# Input variables\n",
    "path = '/home/luiz/climate_change/CPC_Global_Precipitation/precip_SA.nc'\n",
    "shape = '/home/luiz/Documentos/Shapefiles/shapefile_continentes_mundo/Continents.shp'"
   ]
  },
  {
   "cell_type": "code",
   "execution_count": 4,
   "id": "1f476770-da47-44a4-886e-7fdfea01d9b6",
   "metadata": {},
   "outputs": [
    {
     "data": {
      "text/plain": [
       "['lon', 'lat']"
      ]
     },
     "execution_count": 4,
     "metadata": {},
     "output_type": "execute_result"
    }
   ],
   "source": [
    "ds = xr.open_dataset(path)\n",
    "list(ds.dims)[1:3]"
   ]
  },
  {
   "cell_type": "code",
   "execution_count": 6,
   "id": "613a0136-8710-40d0-ab66-47d9219cc7be",
   "metadata": {},
   "outputs": [],
   "source": [
    "# data = ProcessData(path, var='precip')\n",
    "# cpc = data.process_prcp()\n",
    "#cpc = data.mask_dataset(\n",
    "#    cpc, shape, col_shapefile='PLACENAME', query='South America')"
   ]
  },
  {
   "cell_type": "code",
   "execution_count": null,
   "id": "33b38f2e-a7ad-4633-be53-a1fdb7fc5ce0",
   "metadata": {},
   "outputs": [],
   "source": []
  }
 ],
 "metadata": {
  "kernelspec": {
   "display_name": "maps",
   "language": "python",
   "name": "maps"
  },
  "language_info": {
   "codemirror_mode": {
    "name": "ipython",
    "version": 3
   },
   "file_extension": ".py",
   "mimetype": "text/x-python",
   "name": "python",
   "nbconvert_exporter": "python",
   "pygments_lexer": "ipython3",
   "version": "3.7.8"
  }
 },
 "nbformat": 4,
 "nbformat_minor": 5
}
