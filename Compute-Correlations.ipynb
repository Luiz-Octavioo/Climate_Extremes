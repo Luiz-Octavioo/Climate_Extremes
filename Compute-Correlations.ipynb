{
 "cells": [
  {
   "cell_type": "code",
   "execution_count": 1,
   "id": "b7d79d97-a375-40b5-a8dd-37efd67cf105",
   "metadata": {},
   "outputs": [],
   "source": [
    "import xarray as xr\n",
    "from esmtools.stats import corr\n",
    "from esmtools.grid import convert_lon\n",
    "import numpy as np\n",
    "import pandas as pd\n",
    "import os\n",
    "import glob\n",
    "from utils import *\n",
    "\n",
    "# Ignorar warnings\n",
    "import warnings\n",
    "warnings.filterwarnings('ignore')"
   ]
  },
  {
   "cell_type": "markdown",
   "id": "343ef43e-f405-446b-8fee-f36159a9be11",
   "metadata": {},
   "source": [
    "# Calcular as anomalias de SSt na região 3.4 Nino"
   ]
  },
  {
   "cell_type": "code",
   "execution_count": 2,
   "id": "fb56fa82-2993-4ef8-b4ac-9f3494277131",
   "metadata": {},
   "outputs": [],
   "source": [
    "# Abrir o arquivo de SST\n",
    "ersst = xr.open_dataset('sst.mean.nc')\n",
    "# Slice dos dados de Temperatura da Superficie do Mar\n",
    "ersst = ersst.sel(time=slice('1979-01-01', '2020-12-01'))\n",
    "# Caculo das anomalias \n",
    "asst = ersst.groupby('time.month') - ersst.groupby('time.month').mean(dim='time') \n",
    "# Regiçao de Nino 3.4\n",
    "nino34 = asst.sel(lon=slice(190, 240), lat=slice(5, -5)).mean((\"lon\", \"lat\"))\n",
    "# Formato anual\n",
    "nino34_y = nino34.sst.resample({'time':'YS'}).mean()"
   ]
  },
  {
   "cell_type": "code",
   "execution_count": 3,
   "id": "2a5c3568-b36c-401e-b799-236dba29755f",
   "metadata": {},
   "outputs": [],
   "source": [
    "# Mudar o diretorio\n",
    "os.chdir('/home/luiz/climate_change/ETCCDI_Extremes/Anual/')"
   ]
  },
  {
   "cell_type": "code",
   "execution_count": 4,
   "id": "3828cfb4-b1cc-45b4-a703-624786f81315",
   "metadata": {},
   "outputs": [],
   "source": [
    "# Definir caminho do shapefile\n",
    "shp = '/home/luiz/Documentos/Shapefiles/South_America/South_America.shp'\n",
    "# Criar uma lista com os indices extremos\n",
    "ETCCDI_index = glob.glob('*nc')\n",
    "ETCCDI_index.sort()"
   ]
  },
  {
   "cell_type": "code",
   "execution_count": 6,
   "id": "e387df09-cebb-4dfb-a8ec-37449c52fdf1",
   "metadata": {},
   "outputs": [
    {
     "name": "stdout",
     "output_type": "stream",
     "text": [
      "O diretório /home/luiz/Jupyter_Notebook/Python_Notebook/Climate_Extremes_DOC/Correlations_NC já existe !\n"
     ]
    }
   ],
   "source": [
    "# Criar diretorio\n",
    "path_cor_nc = '/home/luiz/Jupyter_Notebook/Python_Notebook/Climate_Extremes_DOC/Correlations_NC'\n",
    "if os.path.exists(path_cor_nc):\n",
    "    print(f'O diretório {path_cor_nc} já existe !')\n",
    "else:\n",
    "    print(f'Criando diretório {path_cor_nc}')\n",
    "    os.mkdir(path_cor_nc)"
   ]
  },
  {
   "cell_type": "code",
   "execution_count": 7,
   "id": "848f0ddb-d8d5-4a4a-bd21-9d94f88a1e34",
   "metadata": {},
   "outputs": [
    {
     "name": "stdout",
     "output_type": "stream",
     "text": [
      "CDD - Calculate Correlation between Nino 3.4 Region\n",
      "Saving File cdd_COR_NINO34.nc\n",
      "Done!\n",
      "CSDI - Calculate Correlation between Nino 3.4 Region\n",
      "Saving File csdi_COR_NINO34.nc\n",
      "Done!\n",
      "CWD - Calculate Correlation between Nino 3.4 Region\n",
      "Saving File cwd_COR_NINO34.nc\n",
      "Done!\n",
      "DTR - Calculate Correlation between Nino 3.4 Region\n",
      "Saving File dtr_COR_NINO34.nc\n",
      "Done!\n",
      "FD - Calculate Correlation between Nino 3.4 Region\n",
      "Saving File fd_COR_NINO34.nc\n",
      "Done!\n",
      "PRCPTOT - Calculate Correlation between Nino 3.4 Region\n",
      "Saving File prcptot_COR_NINO34.nc\n",
      "Done!\n",
      "R10MM - Calculate Correlation between Nino 3.4 Region\n",
      "Saving File r10mm_COR_NINO34.nc\n",
      "Done!\n",
      "R20MM - Calculate Correlation between Nino 3.4 Region\n",
      "Saving File r20mm_COR_NINO34.nc\n",
      "Done!\n",
      "R30MM - Calculate Correlation between Nino 3.4 Region\n",
      "Saving File r30mm_COR_NINO34.nc\n",
      "Done!\n",
      "R95P - Calculate Correlation between Nino 3.4 Region\n",
      "Saving File r95p_COR_NINO34.nc\n",
      "Done!\n",
      "R99P - Calculate Correlation between Nino 3.4 Region\n",
      "Saving File r99p_COR_NINO34.nc\n",
      "Done!\n",
      "RX1DAY - Calculate Correlation between Nino 3.4 Region\n",
      "Saving File rx1day_COR_NINO34.nc\n",
      "Done!\n",
      "RX5DAY - Calculate Correlation between Nino 3.4 Region\n",
      "Saving File rx5day_COR_NINO34.nc\n",
      "Done!\n",
      "SDII - Calculate Correlation between Nino 3.4 Region\n",
      "Saving File sdii_COR_NINO34.nc\n",
      "Done!\n",
      "TN10P - Calculate Correlation between Nino 3.4 Region\n",
      "Saving File tn10p_COR_NINO34.nc\n",
      "Done!\n",
      "TN90P - Calculate Correlation between Nino 3.4 Region\n",
      "Saving File tn90p_COR_NINO34.nc\n",
      "Done!\n",
      "TNN - Calculate Correlation between Nino 3.4 Region\n",
      "Saving File tnn_COR_NINO34.nc\n",
      "Done!\n",
      "TNX - Calculate Correlation between Nino 3.4 Region\n",
      "Saving File tnx_COR_NINO34.nc\n",
      "Done!\n",
      "TX10P - Calculate Correlation between Nino 3.4 Region\n",
      "Saving File tx10p_COR_NINO34.nc\n",
      "Done!\n",
      "TX90P - Calculate Correlation between Nino 3.4 Region\n",
      "Saving File tx90p_COR_NINO34.nc\n",
      "Done!\n",
      "TXN - Calculate Correlation between Nino 3.4 Region\n",
      "Saving File txn_COR_NINO34.nc\n",
      "Done!\n",
      "TXX - Calculate Correlation between Nino 3.4 Region\n",
      "Saving File txx_COR_NINO34.nc\n",
      "Done!\n",
      "WSDI - Calculate Correlation between Nino 3.4 Region\n",
      "Saving File wsdi_COR_NINO34.nc\n",
      "Done!\n",
      "CPU times: user 3min 2s, sys: 7.08 s, total: 3min 9s\n",
      "Wall time: 3min 9s\n"
     ]
    }
   ],
   "source": [
    "%%time\n",
    "start_date = '1979-01-01'\n",
    "end_date = '2020-01-01'\n",
    "freq = '1YS'\n",
    "\n",
    "for index in ETCCDI_index:\n",
    "    ds = xr.open_dataset(index, decode_timedelta=False)\n",
    "    ds = fix_encoding_time(ds, start=start_date, end=end_date, freq=freq)\n",
    "    ds = convert_lon(ds, coord=get_lon_name(ds))\n",
    "    # Recortar\n",
    "    ds = mask_dataset(ds, shapefile_path=shp)\n",
    "    \n",
    "    # Remover variavel 'time_bnds'\n",
    "    if 'time_bnds' in ds:\n",
    "        ds = ds.drop_vars('time_bnds')\n",
    "    else:\n",
    "        pass\n",
    "    \n",
    "    # Pegar o nome do Indice Extremo\n",
    "    index_name = index.split('_')[0]\n",
    "    \n",
    "    # Log\n",
    "    print(f'{index_name.upper()} - Calculate Correlation between Nino 3.4 Region')\n",
    "    \n",
    "    # Calcular a correlação\n",
    "    cor, p = corr(nino34_y, ds[getvar(ds)], dim='time', return_p=True)\n",
    "    \n",
    "    # Combinar parametros\n",
    "    da = merge_params(cor, p, name_stats='cor', name_sig='sig')\n",
    "    \n",
    "    # Exportar arquivos\n",
    "    print(f'Saving File {index_name}_COR_NINO34.nc')\n",
    "    da.to_netcdf(f'{path_cor_nc}/' + f'{index_name}_COR_NINO34.nc')\n",
    "    \n",
    "    print('Done!')"
   ]
  }
 ],
 "metadata": {
  "kernelspec": {
   "display_name": "maps",
   "language": "python",
   "name": "maps"
  },
  "language_info": {
   "codemirror_mode": {
    "name": "ipython",
    "version": 3
   },
   "file_extension": ".py",
   "mimetype": "text/x-python",
   "name": "python",
   "nbconvert_exporter": "python",
   "pygments_lexer": "ipython3",
   "version": "3.7.8"
  }
 },
 "nbformat": 4,
 "nbformat_minor": 5
}
