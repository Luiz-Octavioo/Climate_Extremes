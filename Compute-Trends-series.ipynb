{
 "cells": [
  {
   "cell_type": "markdown",
   "id": "bb230d29-a166-4915-a479-77949bd4c4ba",
   "metadata": {
    "tags": [],
    "pycharm": {
     "name": "#%% md\n"
    }
   },
   "source": [
    "## Import Modules"
   ]
  },
  {
   "cell_type": "code",
   "execution_count": 1,
   "id": "7ed9cb2f-0574-42b7-a2bd-a17c6cf220bc",
   "metadata": {
    "pycharm": {
     "name": "#%%\n"
    }
   },
   "outputs": [
    {
     "data": {
      "text/plain": [
       "<xarray.core.options.set_options at 0x7fdb402bc590>"
      ]
     },
     "execution_count": 1,
     "metadata": {},
     "output_type": "execute_result"
    }
   ],
   "source": [
    "import os\n",
    "import xarray as xr\n",
    "import pandas as pd\n",
    "import numpy as np\n",
    "import glob\n",
    "# import matplotlib.pyplot as plt\n",
    "import pymannkendall as mk\n",
    "import geopandas as gpd\n",
    "import salem\n",
    "from esmtools.grid import convert_lon \n",
    "from utils import *\n",
    "\n",
    "# Filter Warnings\n",
    "import warnings\n",
    "warnings.filterwarnings('ignore')\n",
    "\n",
    "# options\n",
    "xr.set_options(keep_attrs=True)"
   ]
  },
  {
   "cell_type": "markdown",
   "id": "01d2dc37-37a8-4a3c-8a3b-0af25a901fa4",
   "metadata": {
    "tags": [],
    "pycharm": {
     "name": "#%% md\n"
    }
   },
   "source": [
    "## Directory and shapefiles"
   ]
  },
  {
   "cell_type": "code",
   "execution_count": 2,
   "id": "a0d91d98-9c7d-47cc-850a-279d99830bb2",
   "metadata": {
    "pycharm": {
     "name": "#%%\n"
    }
   },
   "outputs": [],
   "source": [
    "# Mudar o diretorio\n",
    "os.chdir('/home/luiz/climate_change/ETCCDI_Extremes/Anual/')"
   ]
  },
  {
   "cell_type": "code",
   "execution_count": 3,
   "id": "8745398e-2d56-4f33-b4b1-d7ac50f679dc",
   "metadata": {
    "pycharm": {
     "name": "#%%\n"
    }
   },
   "outputs": [],
   "source": [
    "# Shape\n",
    "shp = '/home/luiz/Documentos/Shapefiles/South_America_ecorreg_diss/South_America_ecorregions_dissolve.shp'\n",
    "df_shp = gpd.read_file(shp)"
   ]
  },
  {
   "cell_type": "code",
   "execution_count": 4,
   "id": "3bb4beb3-2461-4766-8b36-288eb048cd48",
   "metadata": {
    "pycharm": {
     "name": "#%%\n"
    }
   },
   "outputs": [],
   "source": [
    "#!ls *.nc"
   ]
  },
  {
   "cell_type": "code",
   "execution_count": 5,
   "id": "aa6d0f95-b3ed-462c-8458-807cd2b20804",
   "metadata": {
    "pycharm": {
     "name": "#%%\n"
    }
   },
   "outputs": [],
   "source": [
    "# Definindo o nome do Bioma Faltante\n",
    "# df_shp.at[5, 'BIOME_NAME'] = 'Rock and Ice'\n",
    "# df_shp"
   ]
  },
  {
   "cell_type": "code",
   "execution_count": 6,
   "id": "d7254f99-256b-49c2-8b44-de7f0bebebb3",
   "metadata": {
    "pycharm": {
     "name": "#%%\n"
    }
   },
   "outputs": [],
   "source": [
    "# Pegar lista com valores unicos dos biomas\n",
    "biomes = list(df_shp.drop([5]).BIOME_NAME.unique())\n",
    "ETCCDI_index = glob.glob('*nc')\n",
    "ETCCDI_index.sort()"
   ]
  },
  {
   "cell_type": "markdown",
   "id": "b215a8b4-775d-4156-babc-622a57040501",
   "metadata": {
    "pycharm": {
     "name": "#%% md\n"
    }
   },
   "source": [
    "# Calculo das Tendencias dos Indices Extremos por Bioma"
   ]
  },
  {
   "cell_type": "code",
   "execution_count": 7,
   "id": "bed2acc9-04ab-4272-be3f-9d6e77327783",
   "metadata": {
    "tags": [],
    "pycharm": {
     "name": "#%%\n"
    }
   },
   "outputs": [
    {
     "name": "stdout",
     "output_type": "stream",
     "text": [
      "Index:  CDD  Biome:  Deserts & Xeric Shrublands\n",
      "Index:  CSDI  Biome:  Deserts & Xeric Shrublands\n",
      "Index:  CWD  Biome:  Deserts & Xeric Shrublands\n",
      "Index:  DTR  Biome:  Deserts & Xeric Shrublands\n",
      "Index:  FD  Biome:  Deserts & Xeric Shrublands\n",
      "Index:  PRCPTOT  Biome:  Deserts & Xeric Shrublands\n",
      "Index:  R10MM  Biome:  Deserts & Xeric Shrublands\n",
      "Index:  R20MM  Biome:  Deserts & Xeric Shrublands\n",
      "Index:  R30MM  Biome:  Deserts & Xeric Shrublands\n",
      "Index:  R95P  Biome:  Deserts & Xeric Shrublands\n",
      "Index:  R99P  Biome:  Deserts & Xeric Shrublands\n",
      "Index:  RX1DAY  Biome:  Deserts & Xeric Shrublands\n",
      "Index:  RX5DAY  Biome:  Deserts & Xeric Shrublands\n",
      "Index:  SDII  Biome:  Deserts & Xeric Shrublands\n",
      "Index:  TN10P  Biome:  Deserts & Xeric Shrublands\n",
      "Index:  TN90P  Biome:  Deserts & Xeric Shrublands\n",
      "Index:  TNN  Biome:  Deserts & Xeric Shrublands\n",
      "Index:  TNX  Biome:  Deserts & Xeric Shrublands\n",
      "Index:  TX10P  Biome:  Deserts & Xeric Shrublands\n",
      "Index:  TX90P  Biome:  Deserts & Xeric Shrublands\n",
      "Index:  TXN  Biome:  Deserts & Xeric Shrublands\n",
      "Index:  TXX  Biome:  Deserts & Xeric Shrublands\n",
      "Index:  WSDI  Biome:  Deserts & Xeric Shrublands\n",
      "Index:  CDD  Biome:  Flooded Grasslands & Savannas\n",
      "Index:  CSDI  Biome:  Flooded Grasslands & Savannas\n",
      "Index:  CWD  Biome:  Flooded Grasslands & Savannas\n",
      "Index:  DTR  Biome:  Flooded Grasslands & Savannas\n",
      "Index:  FD  Biome:  Flooded Grasslands & Savannas\n",
      "Index:  PRCPTOT  Biome:  Flooded Grasslands & Savannas\n",
      "Index:  R10MM  Biome:  Flooded Grasslands & Savannas\n",
      "Index:  R20MM  Biome:  Flooded Grasslands & Savannas\n",
      "Index:  R30MM  Biome:  Flooded Grasslands & Savannas\n",
      "Index:  R95P  Biome:  Flooded Grasslands & Savannas\n",
      "Index:  R99P  Biome:  Flooded Grasslands & Savannas\n",
      "Index:  RX1DAY  Biome:  Flooded Grasslands & Savannas\n",
      "Index:  RX5DAY  Biome:  Flooded Grasslands & Savannas\n",
      "Index:  SDII  Biome:  Flooded Grasslands & Savannas\n",
      "Index:  TN10P  Biome:  Flooded Grasslands & Savannas\n",
      "Index:  TN90P  Biome:  Flooded Grasslands & Savannas\n",
      "Index:  TNN  Biome:  Flooded Grasslands & Savannas\n",
      "Index:  TNX  Biome:  Flooded Grasslands & Savannas\n",
      "Index:  TX10P  Biome:  Flooded Grasslands & Savannas\n",
      "Index:  TX90P  Biome:  Flooded Grasslands & Savannas\n",
      "Index:  TXN  Biome:  Flooded Grasslands & Savannas\n",
      "Index:  TXX  Biome:  Flooded Grasslands & Savannas\n",
      "Index:  WSDI  Biome:  Flooded Grasslands & Savannas\n",
      "Index:  CDD  Biome:  Mangroves\n",
      "Index:  CSDI  Biome:  Mangroves\n",
      "Index:  CWD  Biome:  Mangroves\n",
      "Index:  DTR  Biome:  Mangroves\n",
      "Index:  FD  Biome:  Mangroves\n",
      "Index:  PRCPTOT  Biome:  Mangroves\n",
      "Index:  R10MM  Biome:  Mangroves\n",
      "Index:  R20MM  Biome:  Mangroves\n",
      "Index:  R30MM  Biome:  Mangroves\n",
      "Index:  R95P  Biome:  Mangroves\n",
      "Index:  R99P  Biome:  Mangroves\n",
      "Index:  RX1DAY  Biome:  Mangroves\n",
      "Index:  RX5DAY  Biome:  Mangroves\n",
      "Index:  SDII  Biome:  Mangroves\n",
      "Index:  TN10P  Biome:  Mangroves\n",
      "Index:  TN90P  Biome:  Mangroves\n",
      "Index:  TNN  Biome:  Mangroves\n",
      "Index:  TNX  Biome:  Mangroves\n",
      "Index:  TX10P  Biome:  Mangroves\n",
      "Index:  TX90P  Biome:  Mangroves\n",
      "Index:  TXN  Biome:  Mangroves\n",
      "Index:  TXX  Biome:  Mangroves\n",
      "Index:  WSDI  Biome:  Mangroves\n",
      "Index:  CDD  Biome:  Mediterranean Forests, Woodlands & Scrub\n",
      "Index:  CSDI  Biome:  Mediterranean Forests, Woodlands & Scrub\n",
      "Index:  CWD  Biome:  Mediterranean Forests, Woodlands & Scrub\n",
      "Index:  DTR  Biome:  Mediterranean Forests, Woodlands & Scrub\n",
      "Index:  FD  Biome:  Mediterranean Forests, Woodlands & Scrub\n",
      "Index:  PRCPTOT  Biome:  Mediterranean Forests, Woodlands & Scrub\n",
      "Index:  R10MM  Biome:  Mediterranean Forests, Woodlands & Scrub\n",
      "Index:  R20MM  Biome:  Mediterranean Forests, Woodlands & Scrub\n",
      "Index:  R30MM  Biome:  Mediterranean Forests, Woodlands & Scrub\n",
      "Index:  R95P  Biome:  Mediterranean Forests, Woodlands & Scrub\n",
      "Index:  R99P  Biome:  Mediterranean Forests, Woodlands & Scrub\n",
      "Index:  RX1DAY  Biome:  Mediterranean Forests, Woodlands & Scrub\n",
      "Index:  RX5DAY  Biome:  Mediterranean Forests, Woodlands & Scrub\n",
      "Index:  SDII  Biome:  Mediterranean Forests, Woodlands & Scrub\n",
      "Index:  TN10P  Biome:  Mediterranean Forests, Woodlands & Scrub\n",
      "Index:  TN90P  Biome:  Mediterranean Forests, Woodlands & Scrub\n",
      "Index:  TNN  Biome:  Mediterranean Forests, Woodlands & Scrub\n",
      "Index:  TNX  Biome:  Mediterranean Forests, Woodlands & Scrub\n",
      "Index:  TX10P  Biome:  Mediterranean Forests, Woodlands & Scrub\n",
      "Index:  TX90P  Biome:  Mediterranean Forests, Woodlands & Scrub\n",
      "Index:  TXN  Biome:  Mediterranean Forests, Woodlands & Scrub\n",
      "Index:  TXX  Biome:  Mediterranean Forests, Woodlands & Scrub\n",
      "Index:  WSDI  Biome:  Mediterranean Forests, Woodlands & Scrub\n",
      "Index:  CDD  Biome:  Montane Grasslands & Shrublands\n",
      "Index:  CSDI  Biome:  Montane Grasslands & Shrublands\n",
      "Index:  CWD  Biome:  Montane Grasslands & Shrublands\n",
      "Index:  DTR  Biome:  Montane Grasslands & Shrublands\n",
      "Index:  FD  Biome:  Montane Grasslands & Shrublands\n",
      "Index:  PRCPTOT  Biome:  Montane Grasslands & Shrublands\n",
      "Index:  R10MM  Biome:  Montane Grasslands & Shrublands\n",
      "Index:  R20MM  Biome:  Montane Grasslands & Shrublands\n",
      "Index:  R30MM  Biome:  Montane Grasslands & Shrublands\n",
      "Index:  R95P  Biome:  Montane Grasslands & Shrublands\n",
      "Index:  R99P  Biome:  Montane Grasslands & Shrublands\n",
      "Index:  RX1DAY  Biome:  Montane Grasslands & Shrublands\n",
      "Index:  RX5DAY  Biome:  Montane Grasslands & Shrublands\n",
      "Index:  SDII  Biome:  Montane Grasslands & Shrublands\n",
      "Index:  TN10P  Biome:  Montane Grasslands & Shrublands\n",
      "Index:  TN90P  Biome:  Montane Grasslands & Shrublands\n",
      "Index:  TNN  Biome:  Montane Grasslands & Shrublands\n",
      "Index:  TNX  Biome:  Montane Grasslands & Shrublands\n",
      "Index:  TX10P  Biome:  Montane Grasslands & Shrublands\n",
      "Index:  TX90P  Biome:  Montane Grasslands & Shrublands\n",
      "Index:  TXN  Biome:  Montane Grasslands & Shrublands\n",
      "Index:  TXX  Biome:  Montane Grasslands & Shrublands\n",
      "Index:  WSDI  Biome:  Montane Grasslands & Shrublands\n",
      "Index:  CDD  Biome:  Temperate Broadleaf & Mixed Forests\n",
      "Index:  CSDI  Biome:  Temperate Broadleaf & Mixed Forests\n",
      "Index:  CWD  Biome:  Temperate Broadleaf & Mixed Forests\n",
      "Index:  DTR  Biome:  Temperate Broadleaf & Mixed Forests\n",
      "Index:  FD  Biome:  Temperate Broadleaf & Mixed Forests\n",
      "Index:  PRCPTOT  Biome:  Temperate Broadleaf & Mixed Forests\n",
      "Index:  R10MM  Biome:  Temperate Broadleaf & Mixed Forests\n",
      "Index:  R20MM  Biome:  Temperate Broadleaf & Mixed Forests\n",
      "Index:  R30MM  Biome:  Temperate Broadleaf & Mixed Forests\n",
      "Index:  R95P  Biome:  Temperate Broadleaf & Mixed Forests\n",
      "Index:  R99P  Biome:  Temperate Broadleaf & Mixed Forests\n",
      "Index:  RX1DAY  Biome:  Temperate Broadleaf & Mixed Forests\n",
      "Index:  RX5DAY  Biome:  Temperate Broadleaf & Mixed Forests\n",
      "Index:  SDII  Biome:  Temperate Broadleaf & Mixed Forests\n",
      "Index:  TN10P  Biome:  Temperate Broadleaf & Mixed Forests\n",
      "Index:  TN90P  Biome:  Temperate Broadleaf & Mixed Forests\n",
      "Index:  TNN  Biome:  Temperate Broadleaf & Mixed Forests\n",
      "Index:  TNX  Biome:  Temperate Broadleaf & Mixed Forests\n",
      "Index:  TX10P  Biome:  Temperate Broadleaf & Mixed Forests\n",
      "Index:  TX90P  Biome:  Temperate Broadleaf & Mixed Forests\n",
      "Index:  TXN  Biome:  Temperate Broadleaf & Mixed Forests\n",
      "Index:  TXX  Biome:  Temperate Broadleaf & Mixed Forests\n",
      "Index:  WSDI  Biome:  Temperate Broadleaf & Mixed Forests\n",
      "Index:  CDD  Biome:  Temperate Grasslands, Savannas & Shrublands\n",
      "Index:  CSDI  Biome:  Temperate Grasslands, Savannas & Shrublands\n",
      "Index:  CWD  Biome:  Temperate Grasslands, Savannas & Shrublands\n",
      "Index:  DTR  Biome:  Temperate Grasslands, Savannas & Shrublands\n",
      "Index:  FD  Biome:  Temperate Grasslands, Savannas & Shrublands\n",
      "Index:  PRCPTOT  Biome:  Temperate Grasslands, Savannas & Shrublands\n",
      "Index:  R10MM  Biome:  Temperate Grasslands, Savannas & Shrublands\n",
      "Index:  R20MM  Biome:  Temperate Grasslands, Savannas & Shrublands\n",
      "Index:  R30MM  Biome:  Temperate Grasslands, Savannas & Shrublands\n",
      "Index:  R95P  Biome:  Temperate Grasslands, Savannas & Shrublands\n",
      "Index:  R99P  Biome:  Temperate Grasslands, Savannas & Shrublands\n",
      "Index:  RX1DAY  Biome:  Temperate Grasslands, Savannas & Shrublands\n",
      "Index:  RX5DAY  Biome:  Temperate Grasslands, Savannas & Shrublands\n",
      "Index:  SDII  Biome:  Temperate Grasslands, Savannas & Shrublands\n",
      "Index:  TN10P  Biome:  Temperate Grasslands, Savannas & Shrublands\n",
      "Index:  TN90P  Biome:  Temperate Grasslands, Savannas & Shrublands\n",
      "Index:  TNN  Biome:  Temperate Grasslands, Savannas & Shrublands\n",
      "Index:  TNX  Biome:  Temperate Grasslands, Savannas & Shrublands\n",
      "Index:  TX10P  Biome:  Temperate Grasslands, Savannas & Shrublands\n",
      "Index:  TX90P  Biome:  Temperate Grasslands, Savannas & Shrublands\n",
      "Index:  TXN  Biome:  Temperate Grasslands, Savannas & Shrublands\n",
      "Index:  TXX  Biome:  Temperate Grasslands, Savannas & Shrublands\n",
      "Index:  WSDI  Biome:  Temperate Grasslands, Savannas & Shrublands\n",
      "Index:  CDD  Biome:  Tropical & Subtropical Dry Broadleaf Forests\n",
      "Index:  CSDI  Biome:  Tropical & Subtropical Dry Broadleaf Forests\n",
      "Index:  CWD  Biome:  Tropical & Subtropical Dry Broadleaf Forests\n",
      "Index:  DTR  Biome:  Tropical & Subtropical Dry Broadleaf Forests\n",
      "Index:  FD  Biome:  Tropical & Subtropical Dry Broadleaf Forests\n",
      "Index:  PRCPTOT  Biome:  Tropical & Subtropical Dry Broadleaf Forests\n",
      "Index:  R10MM  Biome:  Tropical & Subtropical Dry Broadleaf Forests\n",
      "Index:  R20MM  Biome:  Tropical & Subtropical Dry Broadleaf Forests\n",
      "Index:  R30MM  Biome:  Tropical & Subtropical Dry Broadleaf Forests\n",
      "Index:  R95P  Biome:  Tropical & Subtropical Dry Broadleaf Forests\n",
      "Index:  R99P  Biome:  Tropical & Subtropical Dry Broadleaf Forests\n",
      "Index:  RX1DAY  Biome:  Tropical & Subtropical Dry Broadleaf Forests\n",
      "Index:  RX5DAY  Biome:  Tropical & Subtropical Dry Broadleaf Forests\n",
      "Index:  SDII  Biome:  Tropical & Subtropical Dry Broadleaf Forests\n",
      "Index:  TN10P  Biome:  Tropical & Subtropical Dry Broadleaf Forests\n",
      "Index:  TN90P  Biome:  Tropical & Subtropical Dry Broadleaf Forests\n",
      "Index:  TNN  Biome:  Tropical & Subtropical Dry Broadleaf Forests\n",
      "Index:  TNX  Biome:  Tropical & Subtropical Dry Broadleaf Forests\n",
      "Index:  TX10P  Biome:  Tropical & Subtropical Dry Broadleaf Forests\n",
      "Index:  TX90P  Biome:  Tropical & Subtropical Dry Broadleaf Forests\n",
      "Index:  TXN  Biome:  Tropical & Subtropical Dry Broadleaf Forests\n",
      "Index:  TXX  Biome:  Tropical & Subtropical Dry Broadleaf Forests\n",
      "Index:  WSDI  Biome:  Tropical & Subtropical Dry Broadleaf Forests\n",
      "Index:  CDD  Biome:  Tropical & Subtropical Grasslands, Savannas & Shrublands\n",
      "Index:  CSDI  Biome:  Tropical & Subtropical Grasslands, Savannas & Shrublands\n",
      "Index:  CWD  Biome:  Tropical & Subtropical Grasslands, Savannas & Shrublands\n",
      "Index:  DTR  Biome:  Tropical & Subtropical Grasslands, Savannas & Shrublands\n",
      "Index:  FD  Biome:  Tropical & Subtropical Grasslands, Savannas & Shrublands\n",
      "Index:  PRCPTOT  Biome:  Tropical & Subtropical Grasslands, Savannas & Shrublands\n",
      "Index:  R10MM  Biome:  Tropical & Subtropical Grasslands, Savannas & Shrublands\n",
      "Index:  R20MM  Biome:  Tropical & Subtropical Grasslands, Savannas & Shrublands\n",
      "Index:  R30MM  Biome:  Tropical & Subtropical Grasslands, Savannas & Shrublands\n",
      "Index:  R95P  Biome:  Tropical & Subtropical Grasslands, Savannas & Shrublands\n",
      "Index:  R99P  Biome:  Tropical & Subtropical Grasslands, Savannas & Shrublands\n",
      "Index:  RX1DAY  Biome:  Tropical & Subtropical Grasslands, Savannas & Shrublands\n",
      "Index:  RX5DAY  Biome:  Tropical & Subtropical Grasslands, Savannas & Shrublands\n",
      "Index:  SDII  Biome:  Tropical & Subtropical Grasslands, Savannas & Shrublands\n",
      "Index:  TN10P  Biome:  Tropical & Subtropical Grasslands, Savannas & Shrublands\n",
      "Index:  TN90P  Biome:  Tropical & Subtropical Grasslands, Savannas & Shrublands\n",
      "Index:  TNN  Biome:  Tropical & Subtropical Grasslands, Savannas & Shrublands\n",
      "Index:  TNX  Biome:  Tropical & Subtropical Grasslands, Savannas & Shrublands\n",
      "Index:  TX10P  Biome:  Tropical & Subtropical Grasslands, Savannas & Shrublands\n",
      "Index:  TX90P  Biome:  Tropical & Subtropical Grasslands, Savannas & Shrublands\n",
      "Index:  TXN  Biome:  Tropical & Subtropical Grasslands, Savannas & Shrublands\n",
      "Index:  TXX  Biome:  Tropical & Subtropical Grasslands, Savannas & Shrublands\n",
      "Index:  WSDI  Biome:  Tropical & Subtropical Grasslands, Savannas & Shrublands\n",
      "Index:  CDD  Biome:  Tropical & Subtropical Moist Broadleaf Forests\n",
      "Index:  CSDI  Biome:  Tropical & Subtropical Moist Broadleaf Forests\n",
      "Index:  CWD  Biome:  Tropical & Subtropical Moist Broadleaf Forests\n",
      "Index:  DTR  Biome:  Tropical & Subtropical Moist Broadleaf Forests\n",
      "Index:  FD  Biome:  Tropical & Subtropical Moist Broadleaf Forests\n",
      "Index:  PRCPTOT  Biome:  Tropical & Subtropical Moist Broadleaf Forests\n",
      "Index:  R10MM  Biome:  Tropical & Subtropical Moist Broadleaf Forests\n",
      "Index:  R20MM  Biome:  Tropical & Subtropical Moist Broadleaf Forests\n",
      "Index:  R30MM  Biome:  Tropical & Subtropical Moist Broadleaf Forests\n",
      "Index:  R95P  Biome:  Tropical & Subtropical Moist Broadleaf Forests\n",
      "Index:  R99P  Biome:  Tropical & Subtropical Moist Broadleaf Forests\n",
      "Index:  RX1DAY  Biome:  Tropical & Subtropical Moist Broadleaf Forests\n",
      "Index:  RX5DAY  Biome:  Tropical & Subtropical Moist Broadleaf Forests\n",
      "Index:  SDII  Biome:  Tropical & Subtropical Moist Broadleaf Forests\n",
      "Index:  TN10P  Biome:  Tropical & Subtropical Moist Broadleaf Forests\n",
      "Index:  TN90P  Biome:  Tropical & Subtropical Moist Broadleaf Forests\n",
      "Index:  TNN  Biome:  Tropical & Subtropical Moist Broadleaf Forests\n",
      "Index:  TNX  Biome:  Tropical & Subtropical Moist Broadleaf Forests\n",
      "Index:  TX10P  Biome:  Tropical & Subtropical Moist Broadleaf Forests\n",
      "Index:  TX90P  Biome:  Tropical & Subtropical Moist Broadleaf Forests\n",
      "Index:  TXN  Biome:  Tropical & Subtropical Moist Broadleaf Forests\n",
      "Index:  TXX  Biome:  Tropical & Subtropical Moist Broadleaf Forests\n",
      "Index:  WSDI  Biome:  Tropical & Subtropical Moist Broadleaf Forests\n",
      "Index:  CDD  Biome:  Tundra\n",
      "Index:  CSDI  Biome:  Tundra\n",
      "Index:  CWD  Biome:  Tundra\n",
      "Index:  DTR  Biome:  Tundra\n",
      "Index:  FD  Biome:  Tundra\n",
      "Index:  PRCPTOT  Biome:  Tundra\n",
      "Index:  R10MM  Biome:  Tundra\n",
      "Index:  R20MM  Biome:  Tundra\n",
      "Index:  R30MM  Biome:  Tundra\n",
      "Index:  R95P  Biome:  Tundra\n",
      "Index:  R99P  Biome:  Tundra\n",
      "Index:  RX1DAY  Biome:  Tundra\n",
      "Index:  RX5DAY  Biome:  Tundra\n",
      "Index:  SDII  Biome:  Tundra\n",
      "Index:  TN10P  Biome:  Tundra\n",
      "Index:  TN90P  Biome:  Tundra\n",
      "Index:  TNN  Biome:  Tundra\n",
      "Index:  TNX  Biome:  Tundra\n",
      "Index:  TX10P  Biome:  Tundra\n",
      "Index:  TX90P  Biome:  Tundra\n",
      "Index:  TXN  Biome:  Tundra\n",
      "Index:  TXX  Biome:  Tundra\n",
      "Index:  WSDI  Biome:  Tundra\n",
      "CPU times: user 23min 15s, sys: 43.8 s, total: 23min 59s\n",
      "Wall time: 23min 59s\n"
     ]
    }
   ],
   "source": [
    "%%time\n",
    "\n",
    "start_date = '1979-01-01'\n",
    "end_date = '2020-01-01'\n",
    "freq = '1YS'\n",
    "trend_list = []\n",
    "sig_list = []\n",
    "biomes_list = []\n",
    "index_list = []\n",
    "sign_list = []\n",
    "\n",
    "\n",
    "for biome in biomes:\n",
    "    for file_nc in ETCCDI_index:\n",
    "        # Abrir os bancos de dados\n",
    "        ds = xr.open_dataset(file_nc, decode_timedelta=False)\n",
    "        ds = fix_encoding_time(ds, start=start_date, end=end_date, freq=freq)\n",
    "        ds = convert_lon(ds, coord=get_lon_name(ds))\n",
    "        # Recortar por cada bioma\n",
    "        ds = mask_dataset(ds, shapefile_path=shp, col_shapefile='BIOME_NAME', query=biome)\n",
    "        \n",
    "        # Remover variavel 'time_bnds'\n",
    "        if 'time_bnds' in ds:\n",
    "            ds = ds.drop_vars('time_bnds')\n",
    "        else:\n",
    "            pass\n",
    "        # Pegar os valores\n",
    "        df = get_stats(ds, getvar(ds))\n",
    "        df.set_index('Time', inplace=True)\n",
    "        \n",
    "        # Calcular as tendencias e inclinação pelo teste de Mann-Kendall e Theil-Sen\n",
    "        res, trend_line = mann_kendall_test(df[df.columns[1]]) # Weighted Mean\n",
    "        trend, sig, sign = res.slope, res.p, res.trend\n",
    "        \n",
    "        # Criar lista slope\n",
    "        trend_list.append(trend)\n",
    "        # Criar lista sig\n",
    "        sig_list.append(sig)\n",
    "        # Criar lista\n",
    "        sign_list.append(sign)\n",
    "        # Criar lista biomes\n",
    "        biomes_list.append(biome)\n",
    "        # Criar lista biomes\n",
    "        index_list.append(file_nc.split('_')[0])\n",
    "        \n",
    "        print(f'Index: ', file_nc.upper().split('_')[0], ' Biome: ', biome)\n",
    "        \n",
    "# Criar dataframe\n",
    "db = pd.DataFrame({'Index_ETCCDI':index_list, \n",
    "                  'Trend':trend_list, \n",
    "                  'Sig':sig_list, \n",
    "                  'Bioma':biomes_list,\n",
    "                  'Sign':sign_list})"
   ]
  },
  {
   "cell_type": "code",
   "execution_count": 8,
   "id": "2bbec1f7-7e61-4be2-870a-bf8b1c2583c2",
   "metadata": {
    "pycharm": {
     "name": "#%%\n"
    }
   },
   "outputs": [],
   "source": [
    "db.to_excel('trends-doc-Biomes.xlsx', index=False)\n",
    "#df.query('Index == \"rx1day\"')"
   ]
  },
  {
   "cell_type": "markdown",
   "id": "6b34989a-bba3-485e-94f1-81cebbcb1e00",
   "metadata": {
    "pycharm": {
     "name": "#%% md\n"
    }
   },
   "source": [
    "# Cálculo das Tendencias dos Índices Extremos pelas regioes do IPCC"
   ]
  },
  {
   "cell_type": "markdown",
   "id": "4ebe997f-9a41-4c84-af64-5311d8126b1d",
   "metadata": {
    "tags": [],
    "pycharm": {
     "name": "#%% md\n"
    }
   },
   "source": [
    "## IPCC Regions Shapefile"
   ]
  },
  {
   "cell_type": "code",
   "execution_count": 9,
   "id": "36778350-0858-44f9-a131-827b438662da",
   "metadata": {
    "pycharm": {
     "name": "#%%\n"
    }
   },
   "outputs": [],
   "source": [
    "shp_IPCC = '/home/luiz/Documentos/Shapefiles/IPCC_Regions_SA/IPCC_Regions_SA.shp'\n",
    "df_shp_IPCC = gpd.read_file(shp_IPCC)"
   ]
  },
  {
   "cell_type": "code",
   "execution_count": 10,
   "id": "d8a7a373-0527-4cc6-9068-ecbab1d4c152",
   "metadata": {
    "pycharm": {
     "name": "#%%\n"
    }
   },
   "outputs": [],
   "source": [
    "# Pegar lista com valores unicos\n",
    "ipcc_regions = list(df_shp_IPCC.Acronym.unique())"
   ]
  },
  {
   "cell_type": "markdown",
   "id": "324c9f4a-d512-4d33-83a4-df896ab6eeba",
   "metadata": {
    "pycharm": {
     "name": "#%% md\n"
    }
   },
   "source": [
    "## Cálculo"
   ]
  },
  {
   "cell_type": "code",
   "execution_count": 11,
   "id": "1f294483-b8f6-43af-b6d2-6c37edca9b53",
   "metadata": {
    "pycharm": {
     "name": "#%%\n"
    }
   },
   "outputs": [
    {
     "name": "stdout",
     "output_type": "stream",
     "text": [
      "Index:  CDD  IPCC Region:  NWS\n",
      "Index:  CSDI  IPCC Region:  NWS\n",
      "Index:  CWD  IPCC Region:  NWS\n",
      "Index:  DTR  IPCC Region:  NWS\n",
      "Index:  FD  IPCC Region:  NWS\n",
      "Index:  PRCPTOT  IPCC Region:  NWS\n",
      "Index:  R10MM  IPCC Region:  NWS\n",
      "Index:  R20MM  IPCC Region:  NWS\n",
      "Index:  R30MM  IPCC Region:  NWS\n",
      "Index:  R95P  IPCC Region:  NWS\n",
      "Index:  R99P  IPCC Region:  NWS\n",
      "Index:  RX1DAY  IPCC Region:  NWS\n",
      "Index:  RX5DAY  IPCC Region:  NWS\n",
      "Index:  SDII  IPCC Region:  NWS\n",
      "Index:  TN10P  IPCC Region:  NWS\n",
      "Index:  TN90P  IPCC Region:  NWS\n",
      "Index:  TNN  IPCC Region:  NWS\n",
      "Index:  TNX  IPCC Region:  NWS\n",
      "Index:  TX10P  IPCC Region:  NWS\n",
      "Index:  TX90P  IPCC Region:  NWS\n",
      "Index:  TXN  IPCC Region:  NWS\n",
      "Index:  TXX  IPCC Region:  NWS\n",
      "Index:  WSDI  IPCC Region:  NWS\n",
      "Index:  CDD  IPCC Region:  NSA\n",
      "Index:  CSDI  IPCC Region:  NSA\n",
      "Index:  CWD  IPCC Region:  NSA\n",
      "Index:  DTR  IPCC Region:  NSA\n",
      "Index:  FD  IPCC Region:  NSA\n",
      "Index:  PRCPTOT  IPCC Region:  NSA\n",
      "Index:  R10MM  IPCC Region:  NSA\n",
      "Index:  R20MM  IPCC Region:  NSA\n",
      "Index:  R30MM  IPCC Region:  NSA\n",
      "Index:  R95P  IPCC Region:  NSA\n",
      "Index:  R99P  IPCC Region:  NSA\n",
      "Index:  RX1DAY  IPCC Region:  NSA\n",
      "Index:  RX5DAY  IPCC Region:  NSA\n",
      "Index:  SDII  IPCC Region:  NSA\n",
      "Index:  TN10P  IPCC Region:  NSA\n",
      "Index:  TN90P  IPCC Region:  NSA\n",
      "Index:  TNN  IPCC Region:  NSA\n",
      "Index:  TNX  IPCC Region:  NSA\n",
      "Index:  TX10P  IPCC Region:  NSA\n",
      "Index:  TX90P  IPCC Region:  NSA\n",
      "Index:  TXN  IPCC Region:  NSA\n",
      "Index:  TXX  IPCC Region:  NSA\n",
      "Index:  WSDI  IPCC Region:  NSA\n",
      "Index:  CDD  IPCC Region:  NES\n",
      "Index:  CSDI  IPCC Region:  NES\n",
      "Index:  CWD  IPCC Region:  NES\n",
      "Index:  DTR  IPCC Region:  NES\n",
      "Index:  FD  IPCC Region:  NES\n",
      "Index:  PRCPTOT  IPCC Region:  NES\n",
      "Index:  R10MM  IPCC Region:  NES\n",
      "Index:  R20MM  IPCC Region:  NES\n",
      "Index:  R30MM  IPCC Region:  NES\n",
      "Index:  R95P  IPCC Region:  NES\n",
      "Index:  R99P  IPCC Region:  NES\n",
      "Index:  RX1DAY  IPCC Region:  NES\n",
      "Index:  RX5DAY  IPCC Region:  NES\n",
      "Index:  SDII  IPCC Region:  NES\n",
      "Index:  TN10P  IPCC Region:  NES\n",
      "Index:  TN90P  IPCC Region:  NES\n",
      "Index:  TNN  IPCC Region:  NES\n",
      "Index:  TNX  IPCC Region:  NES\n",
      "Index:  TX10P  IPCC Region:  NES\n",
      "Index:  TX90P  IPCC Region:  NES\n",
      "Index:  TXN  IPCC Region:  NES\n",
      "Index:  TXX  IPCC Region:  NES\n",
      "Index:  WSDI  IPCC Region:  NES\n",
      "Index:  CDD  IPCC Region:  SAM\n",
      "Index:  CSDI  IPCC Region:  SAM\n",
      "Index:  CWD  IPCC Region:  SAM\n",
      "Index:  DTR  IPCC Region:  SAM\n",
      "Index:  FD  IPCC Region:  SAM\n",
      "Index:  PRCPTOT  IPCC Region:  SAM\n",
      "Index:  R10MM  IPCC Region:  SAM\n",
      "Index:  R20MM  IPCC Region:  SAM\n",
      "Index:  R30MM  IPCC Region:  SAM\n",
      "Index:  R95P  IPCC Region:  SAM\n",
      "Index:  R99P  IPCC Region:  SAM\n",
      "Index:  RX1DAY  IPCC Region:  SAM\n",
      "Index:  RX5DAY  IPCC Region:  SAM\n",
      "Index:  SDII  IPCC Region:  SAM\n",
      "Index:  TN10P  IPCC Region:  SAM\n",
      "Index:  TN90P  IPCC Region:  SAM\n",
      "Index:  TNN  IPCC Region:  SAM\n",
      "Index:  TNX  IPCC Region:  SAM\n",
      "Index:  TX10P  IPCC Region:  SAM\n",
      "Index:  TX90P  IPCC Region:  SAM\n",
      "Index:  TXN  IPCC Region:  SAM\n",
      "Index:  TXX  IPCC Region:  SAM\n",
      "Index:  WSDI  IPCC Region:  SAM\n",
      "Index:  CDD  IPCC Region:  SWS\n",
      "Index:  CSDI  IPCC Region:  SWS\n",
      "Index:  CWD  IPCC Region:  SWS\n",
      "Index:  DTR  IPCC Region:  SWS\n",
      "Index:  FD  IPCC Region:  SWS\n",
      "Index:  PRCPTOT  IPCC Region:  SWS\n",
      "Index:  R10MM  IPCC Region:  SWS\n",
      "Index:  R20MM  IPCC Region:  SWS\n",
      "Index:  R30MM  IPCC Region:  SWS\n",
      "Index:  R95P  IPCC Region:  SWS\n",
      "Index:  R99P  IPCC Region:  SWS\n",
      "Index:  RX1DAY  IPCC Region:  SWS\n",
      "Index:  RX5DAY  IPCC Region:  SWS\n",
      "Index:  SDII  IPCC Region:  SWS\n",
      "Index:  TN10P  IPCC Region:  SWS\n",
      "Index:  TN90P  IPCC Region:  SWS\n",
      "Index:  TNN  IPCC Region:  SWS\n",
      "Index:  TNX  IPCC Region:  SWS\n",
      "Index:  TX10P  IPCC Region:  SWS\n",
      "Index:  TX90P  IPCC Region:  SWS\n",
      "Index:  TXN  IPCC Region:  SWS\n",
      "Index:  TXX  IPCC Region:  SWS\n",
      "Index:  WSDI  IPCC Region:  SWS\n",
      "Index:  CDD  IPCC Region:  SES\n",
      "Index:  CSDI  IPCC Region:  SES\n",
      "Index:  CWD  IPCC Region:  SES\n",
      "Index:  DTR  IPCC Region:  SES\n",
      "Index:  FD  IPCC Region:  SES\n",
      "Index:  PRCPTOT  IPCC Region:  SES\n",
      "Index:  R10MM  IPCC Region:  SES\n",
      "Index:  R20MM  IPCC Region:  SES\n",
      "Index:  R30MM  IPCC Region:  SES\n",
      "Index:  R95P  IPCC Region:  SES\n",
      "Index:  R99P  IPCC Region:  SES\n",
      "Index:  RX1DAY  IPCC Region:  SES\n",
      "Index:  RX5DAY  IPCC Region:  SES\n",
      "Index:  SDII  IPCC Region:  SES\n",
      "Index:  TN10P  IPCC Region:  SES\n",
      "Index:  TN90P  IPCC Region:  SES\n",
      "Index:  TNN  IPCC Region:  SES\n",
      "Index:  TNX  IPCC Region:  SES\n",
      "Index:  TX10P  IPCC Region:  SES\n",
      "Index:  TX90P  IPCC Region:  SES\n",
      "Index:  TXN  IPCC Region:  SES\n",
      "Index:  TXX  IPCC Region:  SES\n",
      "Index:  WSDI  IPCC Region:  SES\n",
      "Index:  CDD  IPCC Region:  SSA\n",
      "Index:  CSDI  IPCC Region:  SSA\n",
      "Index:  CWD  IPCC Region:  SSA\n",
      "Index:  DTR  IPCC Region:  SSA\n",
      "Index:  FD  IPCC Region:  SSA\n",
      "Index:  PRCPTOT  IPCC Region:  SSA\n",
      "Index:  R10MM  IPCC Region:  SSA\n",
      "Index:  R20MM  IPCC Region:  SSA\n",
      "Index:  R30MM  IPCC Region:  SSA\n",
      "Index:  R95P  IPCC Region:  SSA\n",
      "Index:  R99P  IPCC Region:  SSA\n",
      "Index:  RX1DAY  IPCC Region:  SSA\n",
      "Index:  RX5DAY  IPCC Region:  SSA\n",
      "Index:  SDII  IPCC Region:  SSA\n",
      "Index:  TN10P  IPCC Region:  SSA\n",
      "Index:  TN90P  IPCC Region:  SSA\n",
      "Index:  TNN  IPCC Region:  SSA\n",
      "Index:  TNX  IPCC Region:  SSA\n",
      "Index:  TX10P  IPCC Region:  SSA\n",
      "Index:  TX90P  IPCC Region:  SSA\n",
      "Index:  TXN  IPCC Region:  SSA\n",
      "Index:  TXX  IPCC Region:  SSA\n",
      "Index:  WSDI  IPCC Region:  SSA\n",
      "CPU times: user 27.6 s, sys: 525 ms, total: 28.1 s\n",
      "Wall time: 28 s\n"
     ]
    }
   ],
   "source": [
    "%%time\n",
    "\n",
    "start_date = '1979-01-01'\n",
    "end_date = '2020-01-01'\n",
    "freq = '1YS'\n",
    "trend_list = []\n",
    "sig_list = []\n",
    "ipcc_list = []\n",
    "index_list = []\n",
    "sign_list = []\n",
    "\n",
    "\n",
    "for region in ipcc_regions:\n",
    "    for file_nc in ETCCDI_index:\n",
    "        # Abrir os bancos de dados\n",
    "        ds = xr.open_dataset(file_nc, decode_timedelta=False)\n",
    "        ds = fix_encoding_time(ds, start=start_date, end=end_date, freq=freq)\n",
    "        ds = convert_lon(ds, coord=get_lon_name(ds))\n",
    "        # Recortar por cada região do IPCC\n",
    "        ds = mask_dataset(ds, shapefile_path=shp_IPCC, col_shapefile='Acronym', query=region)\n",
    "        \n",
    "        # Remover variavel 'time_bnds'\n",
    "        if 'time_bnds' in ds:\n",
    "            ds = ds.drop_vars('time_bnds')\n",
    "        else:\n",
    "            pass\n",
    "        # Pegar os valores\n",
    "        df = get_stats(ds, getvar(ds))\n",
    "        df.set_index('Time', inplace=True)\n",
    "        \n",
    "        # Calcular as tendencias e inclinação pelo teste de Mann-Kendall e Theil-Sen\n",
    "        res, trend_line = mann_kendall_test(df[df.columns[1]]) # Weighted Mean\n",
    "        trend, sig, sign = res.slope, res.p, res.trend\n",
    "        \n",
    "        # Criar lista slope\n",
    "        trend_list.append(trend)\n",
    "        # Criar lista sig\n",
    "        sig_list.append(sig)\n",
    "        # Criar lista\n",
    "        sign_list.append(sign)\n",
    "        # Criar lista ipcc regions\n",
    "        ipcc_list.append(region)\n",
    "        # Criar lista biomes\n",
    "        index_list.append(file_nc.split('_')[0])\n",
    "        \n",
    "        print(f'Index: ', file_nc.upper().split('_')[0], ' IPCC Region: ', region)\n",
    "        \n",
    "# Criar dataframe\n",
    "db = pd.DataFrame({'Index_ETCCDI':index_list, \n",
    "                  'Trend':trend_list, \n",
    "                  'Sig':sig_list, \n",
    "                  'IPCC_Region':ipcc_list,\n",
    "                  'Sign':sign_list})"
   ]
  },
  {
   "cell_type": "code",
   "execution_count": 12,
   "id": "ba60501d-6391-49ba-af1e-8cf6852a4bb5",
   "metadata": {
    "pycharm": {
     "name": "#%%\n"
    }
   },
   "outputs": [],
   "source": [
    "# Export excel\n",
    "db.to_excel('/home/luiz/Jupyter_Notebook/Python_Notebook/Climate_Extremes_DOC/trends-doc-IPCCRegions.xlsx',\n",
    "           index=False)"
   ]
  }
 ],
 "metadata": {
  "kernelspec": {
   "display_name": "maps",
   "language": "python",
   "name": "maps"
  },
  "language_info": {
   "codemirror_mode": {
    "name": "ipython",
    "version": 3
   },
   "file_extension": ".py",
   "mimetype": "text/x-python",
   "name": "python",
   "nbconvert_exporter": "python",
   "pygments_lexer": "ipython3",
   "version": "3.7.8"
  }
 },
 "nbformat": 4,
 "nbformat_minor": 5
}